{
  "cells": [
    {
      "cell_type": "code",
      "source": [
        "!pip install rasterio"
      ],
      "metadata": {
        "colab": {
          "base_uri": "https://localhost:8080/"
        },
        "id": "NgnjJqf4xehO",
        "outputId": "6413fd59-6810-485c-ac27-87464ffccd5c"
      },
      "execution_count": null,
      "outputs": [
        {
          "output_type": "stream",
          "name": "stdout",
          "text": [
            "Requirement already satisfied: rasterio in /usr/local/lib/python3.7/dist-packages (1.2.10)\n",
            "Requirement already satisfied: attrs in /usr/local/lib/python3.7/dist-packages (from rasterio) (21.4.0)\n",
            "Requirement already satisfied: numpy in /usr/local/lib/python3.7/dist-packages (from rasterio) (1.19.5)\n",
            "Requirement already satisfied: certifi in /usr/local/lib/python3.7/dist-packages (from rasterio) (2021.10.8)\n",
            "Requirement already satisfied: affine in /usr/local/lib/python3.7/dist-packages (from rasterio) (2.3.0)\n",
            "Requirement already satisfied: click-plugins in /usr/local/lib/python3.7/dist-packages (from rasterio) (1.1.1)\n",
            "Requirement already satisfied: snuggs>=1.4.1 in /usr/local/lib/python3.7/dist-packages (from rasterio) (1.4.7)\n",
            "Requirement already satisfied: click>=4.0 in /usr/local/lib/python3.7/dist-packages (from rasterio) (7.1.2)\n",
            "Requirement already satisfied: setuptools in /usr/local/lib/python3.7/dist-packages (from rasterio) (57.4.0)\n",
            "Requirement already satisfied: cligj>=0.5 in /usr/local/lib/python3.7/dist-packages (from rasterio) (0.7.2)\n",
            "Requirement already satisfied: pyparsing>=2.1.6 in /usr/local/lib/python3.7/dist-packages (from snuggs>=1.4.1->rasterio) (3.0.7)\n"
          ]
        }
      ]
    },
    {
      "cell_type": "code",
      "execution_count": null,
      "metadata": {
        "id": "rfdhGGMsw1H7"
      },
      "outputs": [],
      "source": [
        "import numpy as np\n",
        "import rasterio as rio\n",
        "from rasterio.plot import show\n",
        "import matplotlib.pyplot as plt"
      ]
    },
    {
      "cell_type": "code",
      "execution_count": null,
      "metadata": {
        "colab": {
          "base_uri": "https://localhost:8080/"
        },
        "id": "CPxAkI6tcJtZ",
        "outputId": "636bdc2b-9c69-406e-ba34-b59f71f43efd"
      },
      "outputs": [
        {
          "output_type": "execute_result",
          "data": {
            "text/plain": [
              "(320, 216)"
            ]
          },
          "metadata": {},
          "execution_count": 32
        }
      ],
      "source": [
        "dem = rio.open('dem.tif')\n",
        "dem_array = dem.read(1).astype('float64')\n",
        "dem_array.shape"
      ]
    },
    {
      "cell_type": "code",
      "source": [
        "print(np.mean(dem_array))"
      ],
      "metadata": {
        "colab": {
          "base_uri": "https://localhost:8080/"
        },
        "id": "Dku4v7TSGLgg",
        "outputId": "920879fd-5dd1-41eb-e01e-7ef45b53b4fa"
      },
      "execution_count": null,
      "outputs": [
        {
          "output_type": "stream",
          "name": "stdout",
          "text": [
            "3552.1549189814814\n"
          ]
        }
      ]
    },
    {
      "cell_type": "code",
      "execution_count": null,
      "metadata": {
        "colab": {
          "base_uri": "https://localhost:8080/"
        },
        "id": "5_NkMetqcr8G",
        "outputId": "f6516c32-5f80-46db-bd00-fd96c658e3d9"
      },
      "outputs": [
        {
          "output_type": "execute_result",
          "data": {
            "text/plain": [
              "(320, 216)"
            ]
          },
          "metadata": {},
          "execution_count": 34
        }
      ],
      "source": [
        "slope = rio.open('slope.tif')\n",
        "slope_array = slope.read(1).astype('float64')\n",
        "slope_array.shape"
      ]
    },
    {
      "cell_type": "code",
      "source": [
        "np.max(slope_array)"
      ],
      "metadata": {
        "colab": {
          "base_uri": "https://localhost:8080/"
        },
        "id": "1DPdVfgnpEjs",
        "outputId": "3112cbf8-202f-46df-dfbc-959c0a9de7e6"
      },
      "execution_count": null,
      "outputs": [
        {
          "output_type": "execute_result",
          "data": {
            "text/plain": [
              "64.08726501464844"
            ]
          },
          "metadata": {},
          "execution_count": 35
        }
      ]
    },
    {
      "cell_type": "code",
      "execution_count": null,
      "metadata": {
        "colab": {
          "base_uri": "https://localhost:8080/"
        },
        "id": "GGlJ_ArrsvOX",
        "outputId": "f627ee5c-cdba-42d0-d089-30afeb9508a1"
      },
      "outputs": [
        {
          "output_type": "execute_result",
          "data": {
            "text/plain": [
              "(320, 216)"
            ]
          },
          "metadata": {},
          "execution_count": 36
        }
      ],
      "source": [
        "aspect = rio.open('aspect.tif')\n",
        "aspect_array = aspect.read(1).astype('float64')\n",
        "aspect_array.shape"
      ]
    },
    {
      "cell_type": "code",
      "source": [
        "np.mean(aspect_array)"
      ],
      "metadata": {
        "colab": {
          "base_uri": "https://localhost:8080/"
        },
        "id": "an8PaADh4DMD",
        "outputId": "fcfd22d9-cb05-416d-ddd0-796453749c4f"
      },
      "execution_count": null,
      "outputs": [
        {
          "output_type": "execute_result",
          "data": {
            "text/plain": [
              "161.1970685272249"
            ]
          },
          "metadata": {},
          "execution_count": 37
        }
      ]
    },
    {
      "cell_type": "code",
      "source": [
        "points = rio.open('imp_points.tif')\n",
        "points_array = points.read(1).astype('float64')\n",
        "points_array.shape"
      ],
      "metadata": {
        "colab": {
          "base_uri": "https://localhost:8080/"
        },
        "id": "JjjzxeHrYNiD",
        "outputId": "cef8a5d2-b824-46d9-d659-c4bebbe6ab3b"
      },
      "execution_count": null,
      "outputs": [
        {
          "output_type": "execute_result",
          "data": {
            "text/plain": [
              "(320, 216)"
            ]
          },
          "metadata": {},
          "execution_count": 38
        }
      ]
    },
    {
      "cell_type": "code",
      "source": [
        "start_pix = np.argwhere(points_array == 1)\n",
        "start_pix = np.squeeze(start_pix)\n",
        "start_pix"
      ],
      "metadata": {
        "colab": {
          "base_uri": "https://localhost:8080/"
        },
        "id": "kl7S2laeYfGB",
        "outputId": "3054f35e-04e5-4845-873a-4fc39c185bc0"
      },
      "execution_count": null,
      "outputs": [
        {
          "output_type": "execute_result",
          "data": {
            "text/plain": [
              "array([289, 128])"
            ]
          },
          "metadata": {},
          "execution_count": 39
        }
      ]
    },
    {
      "cell_type": "code",
      "source": [
        "end_pix = np.argwhere(points_array == 3)\n",
        "end_pix = np.squeeze(end_pix)\n",
        "end_pix"
      ],
      "metadata": {
        "colab": {
          "base_uri": "https://localhost:8080/"
        },
        "id": "efgFfCjXZFkI",
        "outputId": "92b49ee8-e26a-4bf1-a8ad-93f162087353"
      },
      "execution_count": null,
      "outputs": [
        {
          "output_type": "execute_result",
          "data": {
            "text/plain": [
              "array([21, 90])"
            ]
          },
          "metadata": {},
          "execution_count": 40
        }
      ]
    },
    {
      "cell_type": "code",
      "source": [],
      "metadata": {
        "id": "X9syTAAwEOYF"
      },
      "execution_count": null,
      "outputs": []
    },
    {
      "cell_type": "code",
      "source": [
        "check_pixs = np.argwhere(points_array == 2)\n",
        "check_pixs =np.squeeze(check_pixs)\n",
        "check_pixs"
      ],
      "metadata": {
        "colab": {
          "base_uri": "https://localhost:8080/"
        },
        "id": "ecAeVbgWZIb0",
        "outputId": "6a075f36-8aed-4f28-d1c9-c1596d1a54ca"
      },
      "execution_count": null,
      "outputs": [
        {
          "output_type": "execute_result",
          "data": {
            "text/plain": [
              "array([[101,  83],\n",
              "       [207,  86]])"
            ]
          },
          "metadata": {},
          "execution_count": 41
        }
      ]
    },
    {
      "cell_type": "code",
      "execution_count": null,
      "metadata": {
        "id": "i9qJSaxHtLCx"
      },
      "outputs": [],
      "source": []
    },
    {
      "cell_type": "code",
      "execution_count": null,
      "metadata": {
        "colab": {
          "base_uri": "https://localhost:8080/"
        },
        "id": "azWXUKKutBlP",
        "outputId": "16ec5049-0c80-4510-e9b1-78794d6cdefe"
      },
      "outputs": [
        {
          "output_type": "execute_result",
          "data": {
            "text/plain": [
              "(320, 216, 4)"
            ]
          },
          "metadata": {},
          "execution_count": 42
        }
      ],
      "source": [
        "rewards = (np.ones((320,216,4))) * -1000\n",
        "rewards.shape"
      ]
    },
    {
      "cell_type": "code",
      "source": [
        "rewards[1,1,1]"
      ],
      "metadata": {
        "colab": {
          "base_uri": "https://localhost:8080/"
        },
        "id": "JpOmGuQgZlXw",
        "outputId": "455eb7c8-c353-4cbf-c285-ac26d9a2c64b"
      },
      "execution_count": null,
      "outputs": [
        {
          "output_type": "execute_result",
          "data": {
            "text/plain": [
              "-1000.0"
            ]
          },
          "metadata": {},
          "execution_count": 43
        }
      ]
    },
    {
      "cell_type": "code",
      "source": [
        "rewards[287,134,:]"
      ],
      "metadata": {
        "colab": {
          "base_uri": "https://localhost:8080/"
        },
        "id": "XBRPsRLOyi1s",
        "outputId": "337a0f94-9261-47d4-ae8e-c2de195043bc"
      },
      "execution_count": null,
      "outputs": [
        {
          "output_type": "execute_result",
          "data": {
            "text/plain": [
              "array([-1000., -1000., -1000., -1000.])"
            ]
          },
          "metadata": {},
          "execution_count": 44
        }
      ]
    },
    {
      "cell_type": "markdown",
      "source": [
        "based on elevation"
      ],
      "metadata": {
        "id": "nyl4max2bF46"
      }
    },
    {
      "cell_type": "code",
      "source": [
        "def reward_calculator(current_pos,next_pos):\n",
        "  c = current_pos\n",
        "  n = next_pos\n",
        "  if (c <= n):\n",
        "    reward = (np.abs(c-n)+1)/1000  #so going up the reward is -1\n",
        "    pass\n",
        "  elif (c > n):\n",
        "    reward = (np.abs(c-n)+1)/100 # so going down reward is -10\n",
        "    pass\n",
        "  return reward\n",
        "\n"
      ],
      "metadata": {
        "id": "MOsmuUfgAPE3"
      },
      "execution_count": null,
      "outputs": []
    },
    {
      "cell_type": "code",
      "execution_count": null,
      "metadata": {
        "id": "jtf8P0COiKL-"
      },
      "outputs": [],
      "source": [
        "row,col,dim = rewards.shape\n",
        "for rr in range(row-4):\n",
        "  for cc in range(col-4):\n",
        "    r= rr + 2\n",
        "    c= cc + 2\n",
        "    rewards[r,c,0] = -reward_calculator(dem_array[r,c],dem_array[r-1,c]) #going up\n",
        "    rewards[r,c,1] = -reward_calculator(dem_array[r,c],dem_array[r,c+1]) #going right\n",
        "    rewards[r,c,2] = -reward_calculator(dem_array[r,c],dem_array[r+1,c]) #going down\n",
        "    rewards[r,c,3] = -reward_calculator(dem_array[r,c],dem_array[r,c-1]) #going left"
      ]
    },
    {
      "cell_type": "markdown",
      "source": [
        "testing what is the max elevation difrenct between two adjacent pixels"
      ],
      "metadata": {
        "id": "3K7Kb_VGckyr"
      }
    },
    {
      "cell_type": "code",
      "source": [
        "x = []\n",
        "for rr in range(row-4):\n",
        "  for cc in range(col-4):\n",
        "    r= rr + 2\n",
        "    c= cc + 2\n",
        "    x.append(dem_array[r,c] - dem_array[r+1,c] )\n",
        "    x.append(dem_array[r,c] - dem_array[r-1,c] )\n",
        "    x.append(dem_array[r,c] - dem_array[r,c+1] )\n",
        "    x.append(dem_array[r,c] - dem_array[r,c-1] )"
      ],
      "metadata": {
        "id": "PZjdjuaqnA1F"
      },
      "execution_count": null,
      "outputs": []
    },
    {
      "cell_type": "code",
      "source": [
        "y =np.abs(x)"
      ],
      "metadata": {
        "id": "-3MSOFBuoCQd"
      },
      "execution_count": null,
      "outputs": []
    },
    {
      "cell_type": "code",
      "source": [
        "np.max(x)"
      ],
      "metadata": {
        "colab": {
          "base_uri": "https://localhost:8080/"
        },
        "id": "4wTiiabsneAf",
        "outputId": "1d359371-5ebd-4851-fa5c-a5d9096064f2"
      },
      "execution_count": null,
      "outputs": [
        {
          "output_type": "execute_result",
          "data": {
            "text/plain": [
              "99.0"
            ]
          },
          "metadata": {},
          "execution_count": 49
        }
      ]
    },
    {
      "cell_type": "code",
      "source": [
        "rewards[299,131,:]"
      ],
      "metadata": {
        "colab": {
          "base_uri": "https://localhost:8080/"
        },
        "id": "D-gTMYgyhXq3",
        "outputId": "85ebc742-26e2-4015-ae07-242eef4ae590"
      },
      "execution_count": null,
      "outputs": [
        {
          "output_type": "execute_result",
          "data": {
            "text/plain": [
              "array([-0.017, -0.001, -0.46 , -0.19 ])"
            ]
          },
          "metadata": {},
          "execution_count": 50
        }
      ]
    },
    {
      "cell_type": "code",
      "source": [
        "rewards[289,127,:]"
      ],
      "metadata": {
        "colab": {
          "base_uri": "https://localhost:8080/"
        },
        "id": "lJEXvlZNKw36",
        "outputId": "0aff28df-ca69-429b-a6c8-6af5c8275e2f"
      },
      "execution_count": null,
      "outputs": [
        {
          "output_type": "execute_result",
          "data": {
            "text/plain": [
              "array([-0.01 , -0.007, -0.06 , -0.001])"
            ]
          },
          "metadata": {},
          "execution_count": 51
        }
      ]
    },
    {
      "cell_type": "code",
      "source": [
        "rewards[42,40,:]"
      ],
      "metadata": {
        "colab": {
          "base_uri": "https://localhost:8080/"
        },
        "id": "Lvvgu2CUGz6T",
        "outputId": "dabb8662-cde2-450c-82c4-b5c35ecb6a98"
      },
      "execution_count": null,
      "outputs": [
        {
          "output_type": "execute_result",
          "data": {
            "text/plain": [
              "array([-0.003, -0.008, -0.05 , -0.08 ])"
            ]
          },
          "metadata": {},
          "execution_count": 52
        }
      ]
    },
    {
      "cell_type": "code",
      "execution_count": null,
      "metadata": {
        "id": "o7ebRtxzdjiR",
        "colab": {
          "base_uri": "https://localhost:8080/"
        },
        "outputId": "7059fbd5-d9d6-401e-c5d2-48a482a16048"
      },
      "outputs": [
        {
          "output_type": "execute_result",
          "data": {
            "text/plain": [
              "numpy.ndarray"
            ]
          },
          "metadata": {},
          "execution_count": 53
        }
      ],
      "source": [
        "type(dem_array)"
      ]
    },
    {
      "cell_type": "code",
      "execution_count": null,
      "metadata": {
        "id": "6fdEDzzud8mw",
        "colab": {
          "base_uri": "https://localhost:8080/"
        },
        "outputId": "844f173b-66c4-40d1-c3db-146cef2cf359"
      },
      "outputs": [
        {
          "output_type": "execute_result",
          "data": {
            "text/plain": [
              "5599.0"
            ]
          },
          "metadata": {},
          "execution_count": 54
        }
      ],
      "source": [
        "np.max(dem_array)"
      ]
    },
    {
      "cell_type": "code",
      "execution_count": null,
      "metadata": {
        "id": "8Xlk_voBdmbX",
        "colab": {
          "base_uri": "https://localhost:8080/"
        },
        "outputId": "3a02eba1-5708-46b8-a5f8-84abb8b4358e"
      },
      "outputs": [
        {
          "output_type": "stream",
          "name": "stdout",
          "text": [
            "(320, 216)\n"
          ]
        }
      ],
      "source": [
        "print(dem_array.shape)"
      ]
    },
    {
      "cell_type": "code",
      "execution_count": null,
      "metadata": {
        "id": "9AdpFVfy6ya9"
      },
      "outputs": [],
      "source": [
        "#define the shape of the environment (i.e., its states)\n",
        "environment_rows = (dem_array.shape)[0]\n",
        "environment_columns = (dem_array.shape)[1]\n",
        "\n",
        "#Create a 3D numpy array to hold the current Q-values for each state and action pair: Q(s, a) \n",
        "#The array contains 11 rows and 11 columns (to match the shape of the environment), as well as a third \"action\" dimension.\n",
        "#The \"action\" dimension consists of 4 layers that will allow us to keep track of the Q-values for each possible action in\n",
        "#each state (see next cell for a description of possible actions). \n",
        "#The value of each (state, action) pair is initialized to 0.\n",
        "\n",
        "\n",
        "#q_values = np.zeros((environment_rows, environment_columns, 4))\n",
        "q_values = np.load('qnp.npy')"
      ]
    },
    {
      "cell_type": "code",
      "source": [
        "q_values.shape"
      ],
      "metadata": {
        "colab": {
          "base_uri": "https://localhost:8080/"
        },
        "id": "soNiFPgkaK35",
        "outputId": "18b614c8-e57d-44ab-8639-b734fb30cbff"
      },
      "execution_count": null,
      "outputs": [
        {
          "output_type": "execute_result",
          "data": {
            "text/plain": [
              "(320, 216, 4)"
            ]
          },
          "metadata": {},
          "execution_count": 57
        }
      ]
    },
    {
      "cell_type": "markdown",
      "metadata": {
        "id": "07gGSNz07xtP"
      },
      "source": [
        "#### Actions\n",
        "The actions that are available to the AI agent are to move the robot in one of four directions:\n",
        "* Up\n",
        "* Right\n",
        "* Down\n",
        "* Left\n",
        "\n",
        "Obviously, the AI agent must learn to avoid driving into the item storage locations (e.g., shelves)!\n"
      ]
    },
    {
      "cell_type": "code",
      "execution_count": null,
      "metadata": {
        "id": "z43QX_t080q3"
      },
      "outputs": [],
      "source": [
        "#define actions\n",
        "#numeric action codes: 0 = up, 1 = right, 2 = down, 3 = left\n",
        "actions = ['up', 'right', 'down', 'left']"
      ]
    },
    {
      "cell_type": "code",
      "execution_count": null,
      "metadata": {
        "id": "DnCfO5tVG0LJ"
      },
      "outputs": [],
      "source": [
        "#define a function that determines if the specified location is a terminal state\n",
        "def is_terminal_state(current_row_index, current_column_index,end_pix):\n",
        "  #if the reward for this location is -1, then it is not a terminal state (i.e., it is a 'white square')\n",
        "  if np.min(rewards[current_row_index, current_column_index,:]) == -1000 :\n",
        "    print(current_row_index,current_column_index)\n",
        "    return True\n",
        "  elif (current_row_index==end_pix[0] and current_column_index == end_pix[1]):\n",
        "    print(\"HIT!\")\n",
        "    return True\n",
        "    \n",
        "  else:\n",
        "    return False\n",
        "\n",
        "#define a function that will choose a random, non-terminal starting location\n",
        "def get_starting_location(start_pix):\n",
        "  #get a random row and column index\n",
        "  current_row_index = start_pix[0]\n",
        "  current_column_index = start_pix[1]\n",
        "  return current_row_index, current_column_index\n",
        "\n",
        "#define an epsilon greedy algorithm that will choose which action to take next (i.e., where to move next)\n",
        "def get_next_action(current_row_index, current_column_index, epsilon):\n",
        "  #if a randomly chosen value between 0 and 1 is less than epsilon, \n",
        "  #then choose the most promising value from the Q-table for this state.\n",
        "  if np.random.random() < epsilon:\n",
        "    return np.argmax(q_values[current_row_index, current_column_index])\n",
        "  else: #choose a random action\n",
        "    return np.random.randint(4)\n",
        "\n",
        "def environment_effect(current_row_index, current_column_index,action):\n",
        "  asp = aspect_array[current_row_index,current_column_index]\n",
        "  if asp >= 45 and asp<=135:\n",
        "    new_action = 1\n",
        "  elif asp >= 135 and asp<=225:\n",
        "    new_action = 2\n",
        "  elif asp >= 225and asp<=315:\n",
        "    new_action = 3\n",
        "  elif asp >= 315 and asp<=45:\n",
        "    new_action = 0\n",
        "  else:\n",
        "    new_action = action\n",
        "  slp = slope_array[current_row_index,current_column_index]\n",
        "  q = ((slp/90)**10)/2 #probabilite of environmnet changin the action\n",
        "  p = 1-q\n",
        "\n",
        "  new_action = int(np.random.choice([action,new_action],1, p=[p,q]))\n",
        "  return new_action\n",
        "\n",
        "\n",
        "\n",
        "\n",
        "\n",
        "#define a function that will get the next location based on the chosen action\n",
        "def get_next_location(current_row_index, current_column_index, action_index):\n",
        "  new_row_index = current_row_index\n",
        "  new_column_index = current_column_index\n",
        "  if actions[action_index] == 'up' and current_row_index > 0:\n",
        "    new_row_index -= 1\n",
        "  elif actions[action_index] == 'right' and current_column_index < environment_columns - 1:\n",
        "    new_column_index += 1\n",
        "  elif actions[action_index] == 'down' and current_row_index < environment_rows - 1:\n",
        "    new_row_index += 1\n",
        "  elif actions[action_index] == 'left' and current_column_index > 0:\n",
        "    new_column_index -= 1\n",
        "  return new_row_index, new_column_index\n",
        "\n",
        "#Define a function that will get the shortest path between any location within the warehouse that \n",
        "#the robot is allowed to travel and the item packaging location.\n",
        "def get_shortest_path(start_row_index, start_column_index,end_pix ,epsilon=1.,log=True):\n",
        "  #return immediately if this is an invalid starting location\n",
        "  if is_terminal_state(start_row_index, start_column_index,end_pix):\n",
        "    return []\n",
        "  else: #if this is a 'legal' starting location\n",
        "    current_row_index, current_column_index = start_row_index, start_column_index\n",
        "    shortest_path = []\n",
        "    shortest_path.append([current_row_index, current_column_index])\n",
        "    #continue moving along the path until we reach the goal (i.e., the item packaging location)\n",
        "    while not is_terminal_state(current_row_index, current_column_index,end_pix):\n",
        "      #get the best action to take\n",
        "      action_index = get_next_action(current_row_index, current_column_index, epsilon)\n",
        "      #move to the next location on the path, and add the new location to the list\n",
        "      current_row_index, current_column_index = get_next_location(current_row_index, current_column_index, action_index)\n",
        "      shortest_path.append([current_row_index, current_column_index])\n",
        "      if log:print([current_row_index, current_column_index])\n",
        "    return shortest_path"
      ]
    },
    {
      "cell_type": "code",
      "source": [
        "is_terminal_state(21,90,end_pix)"
      ],
      "metadata": {
        "colab": {
          "base_uri": "https://localhost:8080/"
        },
        "id": "oMBmvrA-I76z",
        "outputId": "9c5095dd-1bbd-485c-a8f4-8f8bb216a024"
      },
      "execution_count": null,
      "outputs": [
        {
          "output_type": "stream",
          "name": "stdout",
          "text": [
            "HIT!\n"
          ]
        },
        {
          "output_type": "execute_result",
          "data": {
            "text/plain": [
              "True"
            ]
          },
          "metadata": {},
          "execution_count": 60
        }
      ]
    },
    {
      "cell_type": "markdown",
      "metadata": {
        "id": "pjl9niKEqONs"
      },
      "source": [
        "#### Train the AI Agent using Q-Learning"
      ]
    },
    {
      "cell_type": "code",
      "source": [
        "rewards[10,10,3]"
      ],
      "metadata": {
        "colab": {
          "base_uri": "https://localhost:8080/"
        },
        "id": "8AA9ckCa3sb9",
        "outputId": "8ac2c7c9-5cf4-4878-f13e-1212a987e97e"
      },
      "execution_count": null,
      "outputs": [
        {
          "output_type": "execute_result",
          "data": {
            "text/plain": [
              "-0.14"
            ]
          },
          "metadata": {},
          "execution_count": 61
        }
      ]
    },
    {
      "cell_type": "code",
      "execution_count": null,
      "metadata": {
        "id": "3N5BB0m0JHIn",
        "colab": {
          "base_uri": "https://localhost:8080/",
          "height": 1000
        },
        "outputId": "be280341-63ef-423d-8642-068a027d9a38"
      },
      "outputs": [
        {
          "output_type": "stream",
          "name": "stdout",
          "text": [
            "episode: 0\n",
            "learning rate: 0.4955\n",
            "epsilon: 0.009000000000000001\n",
            "318 83\n",
            "318 141\n",
            "318 45\n",
            "200 1\n",
            "318 178\n",
            "318 147\n",
            "CHECK_2 ! 6\n",
            "HIT CONFIRMED!\n",
            "HIT!\n",
            "318 181\n",
            "156 214\n",
            "318 118\n",
            "318 114\n",
            "306 214\n",
            "318 117\n",
            "46 1\n",
            "283 214\n",
            "318 104\n",
            "225 214\n",
            "318 67\n",
            "HIT CONFIRMED!\n",
            "HIT!\n",
            "CHECK_1 ! 19\n",
            "35 1\n",
            "318 127\n",
            "318 69\n",
            "CHECK_2 ! 22\n",
            "HIT CONFIRMED!\n",
            "HIT!\n",
            "318 116\n",
            "318 78\n",
            "273 1\n",
            "318 157\n",
            "1 56\n",
            "318 88\n",
            "HIT CONFIRMED!\n",
            "HIT!\n",
            "318 126\n",
            "318 142\n",
            "CHECK_2 ! 32\n",
            "1 195\n",
            "318 125\n",
            "197 214\n",
            "CHECK_2 ! 35\n",
            "HIT CONFIRMED!\n",
            "HIT!\n",
            "318 61\n",
            "HIT CONFIRMED!\n",
            "HIT!\n",
            "318 143\n",
            "CHECK_2 ! 39\n",
            "HIT CONFIRMED!\n",
            "HIT!\n",
            "CHECK_2 ! 40\n",
            "227 1\n",
            "318 171\n",
            "221 1\n",
            "318 141\n",
            "318 149\n",
            "261 214\n",
            "HIT CONFIRMED!\n",
            "HIT!\n",
            "318 41\n",
            "318 146\n",
            "318 128\n",
            "CHECK_2 ! 50\n",
            "HIT CONFIRMED!\n",
            "HIT!\n",
            "HIT CONFIRMED!\n",
            "HIT!\n",
            "254 1\n",
            "277 1\n",
            "HIT CONFIRMED!\n",
            "HIT!\n",
            "318 102\n",
            "318 154\n",
            "HIT CONFIRMED!\n",
            "HIT!\n",
            "318 122\n",
            "257 214\n",
            "HIT CONFIRMED!\n",
            "HIT!\n",
            "318 83\n",
            "CHECK_2 ! 62\n",
            "149 1\n",
            "HIT CONFIRMED!\n",
            "HIT!\n",
            "CHECK_2 ! 64\n",
            "HIT CONFIRMED!\n",
            "HIT!\n",
            "268 1\n",
            "318 143\n",
            "HIT CONFIRMED!\n",
            "HIT!\n",
            "CHECK_2 ! 68\n",
            "CHECK_1 ! 68\n",
            "HIT CONFIRMED!\n",
            "HIT!\n",
            "CHECK_2 ! 69\n",
            "HIT CONFIRMED!\n",
            "HIT!\n",
            "CHECK_2 ! 70\n",
            "104 1\n",
            "188 214\n",
            "318 124\n",
            "CHECK_2 ! 73\n",
            "HIT CONFIRMED!\n",
            "HIT!\n",
            "318 123\n",
            "CHECK_2 ! 75\n",
            "HIT CONFIRMED!\n",
            "HIT!\n",
            "CHECK_2 ! 76\n",
            "HIT CONFIRMED!\n",
            "HIT!\n",
            "318 115\n",
            "CHECK_2 ! 78\n",
            "HIT CONFIRMED!\n",
            "HIT!\n",
            "CHECK_1 ! 79\n",
            "HIT CONFIRMED!\n",
            "HIT!\n",
            "CHECK_2 ! 80\n",
            "HIT CONFIRMED!\n",
            "HIT!\n",
            "CHECK_1 ! 81\n",
            "HIT CONFIRMED!\n",
            "HIT!\n",
            "CHECK_2 ! 82\n",
            "HIT CONFIRMED!\n",
            "HIT!\n",
            "CHECK_2 ! 83\n",
            "HIT CONFIRMED!\n",
            "HIT!\n",
            "CHECK_2 ! 84\n",
            "HIT CONFIRMED!\n",
            "HIT!\n",
            "318 143\n",
            "165 1\n",
            "CHECK_2 ! 87\n",
            "HIT CONFIRMED!\n",
            "HIT!\n",
            "CHECK_2 ! 88\n",
            "205 214\n",
            "HIT CONFIRMED!\n",
            "HIT!\n",
            "318 117\n",
            "166 214\n",
            "HIT CONFIRMED!\n",
            "HIT!\n",
            "HIT CONFIRMED!\n",
            "HIT!\n",
            "HIT CONFIRMED!\n",
            "HIT!\n",
            "247 1\n",
            "HIT CONFIRMED!\n",
            "HIT!\n",
            "HIT CONFIRMED!\n",
            "HIT!\n",
            "HIT CONFIRMED!\n",
            "HIT!\n",
            "CHECK_2 ! 99\n",
            "HIT CONFIRMED!\n",
            "HIT!\n",
            "episode: 100\n",
            "learning rate: 0.4505\n",
            "epsilon: 0.099\n",
            "HIT CONFIRMED!\n",
            "HIT!\n",
            "CHECK_1 ! 101\n",
            "HIT CONFIRMED!\n",
            "HIT!\n",
            "318 159\n",
            "CHECK_2 ! 103\n",
            "HIT CONFIRMED!\n",
            "HIT!\n",
            "HIT CONFIRMED!\n",
            "HIT!\n",
            "CHECK_1 ! 105\n",
            "HIT CONFIRMED!\n",
            "HIT!\n",
            "HIT CONFIRMED!\n",
            "HIT!\n",
            "CHECK_2 ! 107\n",
            "HIT CONFIRMED!\n",
            "HIT!\n",
            "HIT CONFIRMED!\n",
            "HIT!\n",
            "CHECK_2 ! 109\n",
            "HIT CONFIRMED!\n",
            "HIT!\n",
            "318 137\n",
            "CHECK_1 ! 111\n",
            "HIT CONFIRMED!\n",
            "HIT!\n",
            "HIT CONFIRMED!\n",
            "HIT!\n",
            "318 136\n",
            "HIT CONFIRMED!\n",
            "HIT!\n",
            "HIT CONFIRMED!\n",
            "HIT!\n",
            "HIT CONFIRMED!\n",
            "HIT!\n",
            "318 159\n",
            "CHECK_2 ! 118\n",
            "HIT CONFIRMED!\n",
            "HIT!\n",
            "HIT CONFIRMED!\n",
            "HIT!\n",
            "CHECK_2 ! 120\n",
            "HIT CONFIRMED!\n",
            "HIT!\n",
            "HIT CONFIRMED!\n",
            "HIT!\n",
            "HIT CONFIRMED!\n",
            "HIT!\n",
            "CHECK_2 ! 123\n",
            "CHECK_1 ! 123\n",
            "HIT CONFIRMED!\n",
            "HIT!\n",
            "HIT CONFIRMED!\n",
            "HIT!\n",
            "CHECK_2 ! 125\n",
            "CHECK_1 ! 125\n",
            "HIT CONFIRMED!\n",
            "HIT!\n",
            "CHECK_2 ! 126\n",
            "HIT CONFIRMED!\n",
            "HIT!\n",
            "CHECK_1 ! 127\n",
            "HIT CONFIRMED!\n",
            "HIT!\n",
            "318 184\n",
            "CHECK_2 ! 129\n",
            "HIT CONFIRMED!\n",
            "HIT!\n",
            "318 147\n",
            "CHECK_2 ! 131\n",
            "HIT CONFIRMED!\n",
            "HIT!\n",
            "318 135\n",
            "HIT CONFIRMED!\n",
            "HIT!\n",
            "HIT CONFIRMED!\n",
            "HIT!\n",
            "CHECK_2 ! 135\n",
            "HIT CONFIRMED!\n",
            "HIT!\n",
            "CHECK_2 ! 136\n",
            "HIT CONFIRMED!\n",
            "HIT!\n",
            "CHECK_2 ! 137\n",
            "HIT CONFIRMED!\n",
            "HIT!\n",
            "HIT CONFIRMED!\n",
            "HIT!\n",
            "HIT CONFIRMED!\n",
            "HIT!\n",
            "CHECK_2 ! 140\n",
            "HIT CONFIRMED!\n",
            "HIT!\n",
            "252 1\n",
            "HIT CONFIRMED!\n",
            "HIT!\n",
            "318 142\n",
            "HIT CONFIRMED!\n",
            "HIT!\n",
            "CHECK_2 ! 145\n",
            "HIT CONFIRMED!\n",
            "HIT!\n",
            "CHECK_2 ! 146\n",
            "HIT CONFIRMED!\n",
            "HIT!\n",
            "HIT CONFIRMED!\n",
            "HIT!\n",
            "CHECK_2 ! 148\n",
            "CHECK_1 ! 148\n",
            "HIT CONFIRMED!\n",
            "HIT!\n",
            "HIT CONFIRMED!\n",
            "HIT!\n",
            "HIT CONFIRMED!\n",
            "HIT!\n",
            "HIT CONFIRMED!\n",
            "HIT!\n",
            "CHECK_1 ! 152\n",
            "HIT CONFIRMED!\n",
            "HIT!\n",
            "HIT CONFIRMED!\n",
            "HIT!\n",
            "318 117\n",
            "CHECK_2 ! 155\n",
            "CHECK_1 ! 155\n",
            "HIT CONFIRMED!\n",
            "HIT!\n",
            "CHECK_2 ! 156\n",
            "HIT CONFIRMED!\n",
            "HIT!\n",
            "CHECK_1 ! 157\n",
            "HIT CONFIRMED!\n",
            "HIT!\n",
            "318 126\n",
            "HIT CONFIRMED!\n",
            "HIT!\n",
            "CHECK_2 ! 160\n",
            "HIT CONFIRMED!\n",
            "HIT!\n",
            "CHECK_2 ! 161\n",
            "CHECK_1 ! 161\n",
            "HIT CONFIRMED!\n",
            "HIT!\n",
            "194 1\n",
            "HIT CONFIRMED!\n",
            "HIT!\n",
            "HIT CONFIRMED!\n",
            "HIT!\n",
            "HIT CONFIRMED!\n",
            "HIT!\n",
            "CHECK_2 ! 166\n",
            "HIT CONFIRMED!\n",
            "HIT!\n",
            "HIT CONFIRMED!\n",
            "HIT!\n",
            "HIT CONFIRMED!\n",
            "HIT!\n",
            "HIT CONFIRMED!\n",
            "HIT!\n",
            "CHECK_2 ! 170\n",
            "CHECK_1 ! 170\n",
            "HIT CONFIRMED!\n",
            "HIT!\n",
            "CHECK_2 ! 171\n",
            "HIT CONFIRMED!\n",
            "HIT!\n",
            "HIT CONFIRMED!\n",
            "HIT!\n",
            "HIT CONFIRMED!\n",
            "HIT!\n",
            "CHECK_2 ! 174\n",
            "HIT CONFIRMED!\n",
            "HIT!\n",
            "CHECK_2 ! 175\n",
            "HIT CONFIRMED!\n",
            "HIT!\n",
            "CHECK_2 ! 176\n",
            "CHECK_1 ! 176\n",
            "HIT CONFIRMED!\n",
            "HIT!\n",
            "318 141\n",
            "HIT CONFIRMED!\n",
            "HIT!\n",
            "CHECK_2 ! 179\n",
            "HIT CONFIRMED!\n",
            "HIT!\n",
            "CHECK_2 ! 180\n",
            "HIT CONFIRMED!\n",
            "HIT!\n",
            "CHECK_2 ! 181\n",
            "HIT CONFIRMED!\n",
            "HIT!\n",
            "HIT CONFIRMED!\n",
            "HIT!\n",
            "CHECK_2 ! 183\n"
          ]
        },
        {
          "output_type": "error",
          "ename": "KeyboardInterrupt",
          "evalue": "ignored",
          "traceback": [
            "\u001b[0;31m---------------------------------------------------------------------------\u001b[0m",
            "\u001b[0;31mKeyboardInterrupt\u001b[0m                         Traceback (most recent call last)",
            "\u001b[0;32m<ipython-input-62-68a9e5460c24>\u001b[0m in \u001b[0;36m<module>\u001b[0;34m()\u001b[0m\n\u001b[1;32m     26\u001b[0m     \u001b[0;31m#perform the chosen action, and transition to the next state (i.e., move to the next location)\u001b[0m\u001b[0;34m\u001b[0m\u001b[0;34m\u001b[0m\u001b[0;34m\u001b[0m\u001b[0m\n\u001b[1;32m     27\u001b[0m     \u001b[0mold_row_index\u001b[0m\u001b[0;34m,\u001b[0m \u001b[0mold_column_index\u001b[0m \u001b[0;34m=\u001b[0m \u001b[0mrow_index\u001b[0m\u001b[0;34m,\u001b[0m \u001b[0mcolumn_index\u001b[0m \u001b[0;31m#store the old row and column indexes\u001b[0m\u001b[0;34m\u001b[0m\u001b[0;34m\u001b[0m\u001b[0m\n\u001b[0;32m---> 28\u001b[0;31m     \u001b[0mrow_index\u001b[0m\u001b[0;34m,\u001b[0m \u001b[0mcolumn_index\u001b[0m \u001b[0;34m=\u001b[0m \u001b[0mget_next_location\u001b[0m\u001b[0;34m(\u001b[0m\u001b[0mrow_index\u001b[0m\u001b[0;34m,\u001b[0m \u001b[0mcolumn_index\u001b[0m\u001b[0;34m,\u001b[0m \u001b[0menv_action\u001b[0m\u001b[0;34m)\u001b[0m\u001b[0;34m\u001b[0m\u001b[0;34m\u001b[0m\u001b[0m\n\u001b[0m\u001b[1;32m     29\u001b[0m \u001b[0;34m\u001b[0m\u001b[0m\n\u001b[1;32m     30\u001b[0m     \u001b[0;31m#receive the reward for moving to the new state, and calculate the temporal difference\u001b[0m\u001b[0;34m\u001b[0m\u001b[0;34m\u001b[0m\u001b[0;34m\u001b[0m\u001b[0m\n",
            "\u001b[0;31mKeyboardInterrupt\u001b[0m: "
          ]
        }
      ],
      "source": [
        "#define training parameters\n",
        "epsilon = 0.9 #the percentage of time when we should take the best action (instead of a random action)\n",
        "discount_factor = 0.9 #discount factor for future rewards\n",
        "learning_rate = 0.1 #the rate at which the AI agent should learn\n",
        "EPISODES =1000\n",
        "#run through 1000 training episodes\n",
        "for episode in range(EPISODES):\n",
        "  epsilon = 0.9*((episode+10)/EPISODES)\n",
        "  learning_rate = 0.5 - 0.45*((episode+10)/EPISODES)\n",
        "  if episode%100 == 0: \n",
        "    print(\"episode: \" + str(episode))\n",
        "    print(\"learning rate: \" + str(learning_rate))\n",
        "    print(\"epsilon: \" + str(epsilon))\n",
        "  #get the starting location for this episode\n",
        "  row_index, column_index = get_starting_location(start_pix)\n",
        "\n",
        "  #continue taking actions (i.e., moving) until we reach a terminal state\n",
        "  #(i.e., until we reach the item packaging area or crash into an item storage location)\n",
        "  check1_on = True\n",
        "  check2_on = True\n",
        "  while not is_terminal_state(row_index, column_index, end_pix):\n",
        "    #choose which action to take (i.e., where to move next)\n",
        "    action_index = get_next_action(row_index, column_index, epsilon)\n",
        "    env_action = environment_effect(row_index, column_index, action_index)\n",
        "    #env_action = action_index\n",
        "    #perform the chosen action, and transition to the next state (i.e., move to the next location)\n",
        "    old_row_index, old_column_index = row_index, column_index #store the old row and column indexes\n",
        "    row_index, column_index = get_next_location(row_index, column_index, env_action)\n",
        "    \n",
        "    #receive the reward for moving to the new state, and calculate the temporal difference\n",
        "\n",
        "    if row_index == end_pix[0] and column_index == end_pix[1]:\n",
        "      reward = 100\n",
        "      print('HIT CONFIRMED!')\n",
        "    elif (row_index == check_pixs[0][0] and column_index == check_pixs[0][1]) and check1_on:\n",
        "      reward = 100\n",
        "      print(\"CHECK_1 !\",str(episode))\n",
        "      check1_on = False\n",
        "    elif (row_index == check_pixs[1][0] and column_index == check_pixs[1][1]) and check2_on:\n",
        "      reward = 100\n",
        "      print(\"CHECK_2 !\",str(episode))\n",
        "      check2_on = False\n",
        "    else:\n",
        "      reward = rewards[old_row_index,old_column_index,env_action]\n",
        "\n",
        "    old_q_value = q_values[old_row_index, old_column_index, action_index]\n",
        "    temporal_difference = reward + (discount_factor * np.max(q_values[row_index, column_index])) - old_q_value\n",
        "\n",
        "    #update the Q-value for the previous state and action pair\n",
        "    new_q_value = old_q_value + (learning_rate * temporal_difference)\n",
        "    q_values[old_row_index, old_column_index, action_index] = new_q_value\n",
        "\n",
        "print('Training complete!')"
      ]
    },
    {
      "cell_type": "markdown",
      "metadata": {
        "id": "-JqQfjYdfyBh"
      },
      "source": [
        "## Get Shortest Paths\n",
        "Now that the AI agent has been fully trained, we can see what it has learned by displaying the shortest path between any location in the warehouse where the robot is allowed to travel and the item packaging area.\n",
        "\n",
        "\n",
        "Run the code cell below to try a few different starting locations!"
      ]
    },
    {
      "cell_type": "code",
      "source": [
        "q_values[287,133,:]"
      ],
      "metadata": {
        "id": "RD4Klo3EiBQ7"
      },
      "execution_count": null,
      "outputs": []
    },
    {
      "cell_type": "code",
      "execution_count": null,
      "metadata": {
        "id": "F1YO3mj_oS2J",
        "colab": {
          "base_uri": "https://localhost:8080/",
          "height": 324
        },
        "outputId": "2670b7fb-1854-4ef7-a8fd-073df8dc4a8d"
      },
      "outputs": [
        {
          "output_type": "stream",
          "name": "stdout",
          "text": [
            "HIT!\n",
            "[[289, 128], [289, 129], [289, 130], [289, 131], [289, 132], [289, 133], [289, 134], [289, 135], [288, 135], [288, 134], [289, 134], [289, 135], [288, 135], [288, 134], [287, 134], [287, 133], [287, 134], [287, 133], [287, 134], [287, 133], [287, 134], [287, 133], [287, 134], [287, 133], [287, 134], [287, 133], [287, 134], [287, 133], [287, 134], [287, 133], [287, 134], [287, 133], [287, 134], [287, 133], [287, 134], [286, 134], [285, 134], [284, 134], [283, 134], [282, 134], [282, 133], [282, 134], [282, 133], [282, 134], [282, 133], [282, 134], [282, 133], [282, 134], [282, 133], [282, 134], [282, 133], [282, 134], [282, 133], [282, 134], [282, 133], [282, 134], [282, 133], [282, 134], [282, 133], [282, 134], [282, 133], [282, 134], [282, 133], [282, 134], [282, 133], [282, 134], [282, 133], [282, 134], [282, 133], [282, 134], [282, 133], [282, 134], [282, 133], [282, 134], [282, 133], [282, 134], [282, 133], [282, 134], [282, 133], [282, 134], [282, 133], [282, 134], [282, 133], [282, 134], [282, 133], [282, 134], [282, 133], [282, 134], [282, 133], [282, 134], [282, 133], [282, 134], [282, 133], [282, 134], [282, 133], [282, 134], [282, 133], [282, 134], [282, 133], [282, 134], [283, 134], [283, 135], [283, 134], [283, 135], [283, 134], [283, 135], [283, 134], [283, 135], [282, 135], [281, 135], [282, 135], [281, 135], [282, 135], [281, 135], [282, 135], [281, 135], [282, 135], [282, 134], [282, 133], [282, 134], [282, 133], [282, 134], [282, 133], [282, 134], [282, 133], [282, 134], [282, 133], [282, 134], [282, 133], [282, 134], [282, 133], [282, 134], [282, 133], [282, 134], [282, 133], [282, 134], [282, 133], [282, 134], [282, 133], [282, 134], [282, 133], [282, 134], [282, 133], [282, 134], [282, 133], [282, 134], [282, 133], [282, 134], [282, 133], [282, 134], [282, 133], [282, 134], [281, 134], [281, 133], [281, 132], [281, 133], [281, 132], [281, 133], [281, 132], [281, 133], [281, 132], [281, 133], [281, 132], [281, 133], [281, 132], [281, 133], [281, 132], [281, 133], [281, 132], [281, 133], [281, 132], [281, 133], [281, 132], [281, 133], [281, 132], [281, 133], [281, 132], [281, 133], [281, 132], [281, 133], [281, 132], [281, 133], [281, 132], [281, 133], [281, 132], [281, 133], [281, 132], [281, 133], [281, 132], [281, 133], [281, 132], [281, 133], [281, 132], [281, 133], [281, 132], [281, 133], [281, 132], [281, 133], [281, 134], [281, 133], [281, 132], [281, 133], [281, 132], [281, 133], [281, 134], [281, 133], [281, 132], [280, 132], [280, 133], [280, 132], [280, 133], [280, 132], [280, 133], [280, 132], [280, 133], [280, 132], [280, 133], [279, 133], [279, 132], [279, 133], [279, 132], [279, 133], [279, 132], [279, 133], [279, 132], [279, 133], [279, 132], [279, 133], [279, 132], [279, 133], [279, 132], [279, 133], [279, 132], [279, 133], [280, 133], [281, 133], [281, 132], [281, 133], [281, 132], [281, 133], [281, 132], [281, 133], [281, 132], [281, 133], [281, 132], [281, 133], [281, 132], [281, 133], [281, 132], [281, 133], [281, 132], [281, 133], [281, 132], [281, 133], [281, 132], [281, 131], [281, 132], [281, 133], [281, 132], [281, 133], [282, 133], [282, 134], [282, 133], [282, 134], [282, 133], [282, 134], [282, 133], [282, 134], [282, 133], [282, 134], [282, 133], [282, 134], [282, 133], [282, 134], [282, 133], [282, 134], [282, 133], [282, 134], [282, 133], [282, 134], [282, 133], [282, 134], [282, 133], [282, 132], [282, 133], [282, 134], [282, 133], [282, 134], [282, 133], [282, 134], [282, 133], [282, 134], [282, 133], [282, 134], [282, 133], [282, 134], [282, 133], [282, 134], [282, 133], [282, 134], [282, 133], [282, 134], [282, 133], [282, 134], [282, 133], [282, 134], [282, 133], [282, 134], [282, 133], [282, 134], [282, 133], [282, 134], [282, 133], [282, 134], [282, 133], [282, 134], [282, 133], [282, 134], [282, 133], [282, 134], [282, 133], [282, 134], [282, 133], [282, 134], [282, 133], [282, 134], [282, 133], [282, 134], [281, 134], [281, 133], [281, 132], [281, 133], [281, 132], [281, 133], [281, 132], [281, 133], [281, 132], [281, 133], [281, 132], [281, 133], [281, 132], [281, 133], [281, 132], [281, 131], [281, 132], [281, 133], [281, 132], [281, 133], [281, 132], [281, 133], [281, 132], [281, 133], [281, 134], [281, 133], [281, 132], [281, 133], [281, 132], [281, 133], [281, 132], [281, 133], [281, 132], [281, 133], [281, 132], [281, 133], [281, 132], [281, 133], [281, 132], [281, 133], [281, 132], [281, 133], [281, 132], [281, 133], [281, 132], [281, 133], [281, 132], [281, 133], [281, 134], [281, 133], [281, 132], [281, 133], [281, 132], [281, 133], [281, 132], [281, 133], [281, 132], [281, 133], [281, 132], [281, 133], [281, 132], [281, 133], [281, 132], [281, 133], [281, 132], [282, 132], [282, 133], [282, 134], [282, 133], [282, 134], [282, 133], [282, 134], [282, 133], [282, 134], [282, 133], [282, 134], [282, 133], [282, 134], [282, 133], [282, 134], [282, 133], [282, 134], [282, 133], [282, 134], [282, 133], [282, 134], [282, 133], [282, 134], [282, 133], [282, 134], [282, 133], [282, 134], [282, 133], [282, 134], [282, 133], [282, 134], [282, 133], [282, 134], [282, 133], [282, 134], [282, 133], [282, 134], [282, 133], [282, 134], [282, 133], [282, 134], [282, 133], [282, 134], [282, 133], [282, 134], [282, 133], [282, 134], [282, 133], [282, 134], [282, 133], [282, 134], [282, 133], [282, 134], [282, 133], [282, 134], [282, 133], [282, 134], [282, 133], [282, 134], [282, 133], [282, 134], [282, 133], [282, 134], [282, 133], [282, 134], [282, 133], [281, 133], [281, 132], [281, 133], [281, 132], [281, 133], [281, 132], [281, 133], [281, 132], [281, 133], [281, 132], [281, 133], [281, 132], [281, 133], [281, 132], [281, 133], [281, 132], [281, 133], [281, 132], [281, 133], [281, 132], [281, 133], [281, 132], [281, 133], [281, 132], [281, 133], [281, 132], [281, 133], [281, 132], [281, 133], [281, 132], [281, 133], [282, 133], [282, 134], [282, 133], [282, 134], [282, 133], [282, 134], [282, 133], [282, 134], [282, 133], [282, 134], [282, 133], [282, 134], [282, 133], [282, 134], [282, 133], [282, 134], [282, 133], [282, 134], [282, 133], [282, 134], [282, 133], [282, 134], [282, 133], [282, 134], [282, 133], [282, 134], [282, 133], [282, 134], [282, 133], [282, 134], [282, 133], [282, 134], [282, 133], [282, 134], [282, 133], [282, 134], [282, 135], [281, 135], [282, 135], [281, 135], [282, 135], [281, 135], [282, 135], [281, 135], [282, 135], [282, 136], [281, 136], [281, 135], [282, 135], [281, 135], [282, 135], [282, 134], [282, 133], [282, 134], [282, 133], [282, 134], [282, 133], [282, 134], [282, 133], [282, 134], [282, 133], [282, 134], [282, 133], [282, 134], [282, 133], [283, 133], [283, 134], [283, 135], [283, 134], [283, 135], [283, 134], [283, 135], [283, 134], [283, 135], [283, 134], [283, 135], [283, 134], [283, 135], [283, 134], [283, 135], [283, 134], [283, 135], [283, 134], [283, 135], [283, 134], [283, 135], [283, 134], [283, 135], [283, 134], [283, 135], [283, 134], [283, 135], [283, 134], [283, 135], [283, 134], [283, 135], [283, 134], [283, 135], [283, 134], [283, 135], [283, 134], [283, 135], [283, 134], [283, 135], [283, 134], [283, 135], [283, 134], [283, 135], [283, 134], [283, 135], [283, 134], [283, 135], [283, 134], [283, 135], [283, 134], [283, 135], [283, 134], [283, 135], [283, 134], [283, 135], [283, 134], [283, 135], [283, 134], [283, 135], [283, 134], [283, 135], [283, 134], [283, 135], [283, 134], [283, 135], [283, 134], [283, 135], [283, 134], [283, 135], [283, 134], [283, 135], [283, 134], [283, 135], [284, 135], [284, 134], [283, 134], [283, 135], [283, 134], [283, 135], [283, 134], [283, 135], [283, 134], [283, 135], [282, 135], [281, 135], [282, 135], [281, 135], [282, 135], [282, 136], [281, 136], [281, 135], [282, 135], [281, 135], [282, 135], [281, 135], [282, 135], [283, 135], [283, 134], [283, 135], [283, 134], [283, 135], [283, 134], [283, 135], [283, 134], [283, 135], [283, 134], [283, 135], [283, 134], [283, 135], [283, 134], [283, 135], [283, 134], [283, 135], [283, 134], [283, 135], [283, 134], [283, 135], [283, 134], [283, 135], [283, 134], [283, 135], [282, 135], [281, 135], [282, 135], [281, 135], [282, 135], [281, 135], [282, 135], [282, 136], [281, 136], [281, 135], [282, 135], [281, 135], [282, 135], [281, 135], [282, 135], [281, 135], [282, 135], [281, 135], [282, 135], [281, 135], [282, 135], [281, 135], [282, 135], [281, 135], [282, 135], [281, 135], [282, 135], [281, 135], [282, 135], [281, 135], [282, 135], [281, 135], [282, 135], [281, 135], [282, 135], [281, 135], [282, 135], [281, 135], [282, 135], [281, 135], [282, 135], [281, 135], [282, 135], [281, 135], [282, 135], [281, 135], [282, 135], [281, 135], [282, 135], [281, 135], [282, 135], [281, 135], [282, 135], [281, 135], [281, 134], [281, 133], [281, 132], [281, 133], [281, 132], [281, 133], [281, 132], [281, 133], [281, 132], [281, 133], [281, 132], [281, 133], [281, 132], [281, 133], [281, 132], [281, 133], [281, 132], [281, 133], [281, 132], [281, 133], [281, 132], [281, 133], [281, 132], [281, 133], [281, 132], [281, 133], [281, 132], [281, 133], [281, 132], [281, 133], [281, 132], [281, 133], [281, 132], [281, 133], [281, 132], [281, 133], [281, 132], [281, 133], [281, 132], [281, 133], [281, 132], [281, 133], [281, 132], [281, 133], [281, 132], [281, 133], [281, 132], [281, 133], [281, 132], [281, 133], [282, 133], [282, 134], [282, 133], [282, 134], [282, 133], [282, 134], [282, 133], [282, 134], [282, 133], [282, 134], [282, 133], [282, 134], [282, 133], [282, 134], [282, 133], [282, 134], [283, 134], [283, 135], [283, 134], [283, 135], [283, 134], [283, 135], [283, 134], [283, 135], [283, 134], [283, 135], [283, 134], [283, 135], [283, 134], [283, 135], [283, 134], [283, 135], [283, 134], [283, 135], [283, 134], [283, 135], [283, 134], [283, 135], [283, 134], [283, 135], [283, 134], [283, 135], [283, 134], [283, 135], [283, 134], [283, 135], [283, 134], [283, 135], [283, 134], [283, 135], [283, 136], [283, 135], [283, 134], [283, 135], [283, 134], [283, 135], [283, 134], [283, 135], [283, 134], [283, 135], [283, 134], [283, 135], [283, 134], [283, 135], [283, 134], [283, 135], [283, 134], [283, 135], [283, 134], [283, 135], [283, 134], [283, 135], [283, 134], [283, 135], [283, 134], [283, 135], [283, 134], [283, 135], [283, 134], [283, 135], [283, 134], [283, 135], [283, 134], [283, 135], [283, 134], [283, 135], [283, 134], [283, 135], [283, 134], [283, 135], [283, 134], [283, 135], [283, 134], [283, 135], [283, 136], [283, 135], [283, 134], [283, 135], [283, 134], [283, 135], [283, 134], [283, 135], [283, 134], [283, 135], [283, 134], [283, 135], [283, 134], [283, 135], [283, 134], [283, 135], [283, 134], [283, 135], [283, 134], [283, 135], [283, 134], [283, 135], [283, 134], [283, 135], [283, 134], [283, 135], [283, 134], [283, 135], [283, 134], [283, 135], [283, 134], [283, 135], [283, 134], [283, 135], [283, 134], [283, 135], [283, 134], [283, 135], [283, 134], [284, 134], [283, 134], [283, 135], [283, 134], [283, 135], [283, 134], [283, 135], [283, 134], [283, 135], [283, 134], [283, 135], [283, 134], [283, 135], [283, 134], [283, 135], [283, 134], [283, 135], [283, 134], [283, 135], [283, 134], [283, 135], [283, 134], [283, 135], [283, 134], [283, 135], [283, 134], [283, 135], [283, 134], [283, 135], [283, 134], [283, 135], [283, 134], [283, 135], [283, 134], [283, 135], [283, 134], [283, 135], [283, 134], [283, 135], [283, 134], [283, 135], [283, 134], [283, 135], [283, 134], [283, 135], [283, 134], [283, 135], [283, 134], [283, 135], [283, 134], [283, 135], [282, 135], [281, 135], [282, 135], [281, 135], [282, 135], [281, 135], [282, 135], [281, 135], [282, 135], [281, 135], [282, 135], [281, 135], [282, 135], [281, 135], [282, 135], [281, 135], [282, 135], [282, 134], [282, 133], [282, 134], [282, 133], [282, 134], [282, 133], [282, 134], [282, 133], [282, 134], [282, 133], [282, 134], [282, 133], [282, 134], [282, 133], [282, 134], [282, 133], [282, 134], [282, 133], [282, 134], [283, 134], [283, 135], [283, 134], [283, 135], [283, 134], [283, 135], [283, 134], [283, 135], [283, 134], [283, 135], [283, 134], [283, 135], [283, 134], [283, 135], [283, 134], [283, 135], [283, 134], [283, 135], [283, 134], [283, 135], [283, 134], [283, 135], [283, 134], [283, 135], [283, 134], [283, 135], [283, 134], [283, 135], [283, 134], [283, 135], [283, 134], [283, 135], [283, 134], [283, 135], [283, 134], [283, 135], [283, 134], [283, 135], [283, 134], [283, 135], [283, 134], [283, 135], [283, 134], [283, 135], [283, 134], [283, 135], [283, 134], [283, 135], [283, 134], [283, 135], [283, 134], [283, 135], [283, 134], [283, 135], [283, 134], [284, 134], [283, 134], [283, 135], [283, 134], [283, 135], [283, 134], [283, 135], [283, 134], [283, 135], [283, 134], [283, 135], [283, 134], [283, 135], [283, 134], [283, 135], [283, 134], [283, 135], [283, 134], [283, 133], [283, 134], [283, 135], [283, 134], [283, 135], [283, 134], [283, 135], [283, 134], [283, 135], [283, 134], [283, 135], [283, 134], [283, 135], [283, 134], [282, 134], [282, 133], [282, 134], [282, 133], [282, 134], [282, 133], [282, 134], [282, 133], [282, 134], [282, 133], [282, 134], [282, 133], [282, 134], [282, 133], [282, 132], [282, 133], [282, 134], [282, 133], [282, 134], [282, 133], [282, 134], [282, 133], [282, 134], [282, 133], [282, 134], [282, 133], [282, 134], [282, 133], [282, 132], [282, 133], [282, 134], [282, 133], [282, 134], [282, 133], [282, 134], [282, 133], [282, 134], [282, 133], [282, 134], [282, 133], [282, 134], [282, 133], [282, 134], [282, 133], [282, 134], [282, 133], [282, 134], [282, 133], [282, 134], [282, 133], [282, 134], [282, 133], [282, 134], [282, 133], [282, 134], [282, 133], [282, 134], [282, 133], [282, 134], [282, 133], [282, 134], [282, 133], [282, 134], [282, 133], [282, 134], [282, 133], [282, 134], [282, 133], [282, 134], [282, 133], [282, 134], [282, 133], [282, 134], [282, 133], [282, 134], [282, 133], [282, 134], [282, 133], [282, 134], [282, 133], [282, 134], [282, 133], [282, 134], [282, 133], [282, 134], [282, 133], [282, 134], [282, 133], [282, 134], [282, 133], [282, 134], [282, 133], [282, 134], [282, 133], [282, 134], [282, 133], [282, 134], [282, 133], [282, 134], [282, 133], [282, 134], [283, 134], [283, 135], [283, 134], [283, 135], [283, 134], [283, 135], [283, 134], [283, 135], [284, 135], [284, 134], [283, 134], [283, 135], [283, 134], [283, 135], [283, 134], [283, 135], [283, 134], [283, 135], [283, 134], [283, 135], [283, 134], [283, 135], [283, 134], [283, 135], [283, 134], [283, 135], [283, 134], [284, 134], [283, 134], [283, 135], [283, 134], [283, 135], [283, 134], [283, 135], [282, 135], [281, 135], [282, 135], [281, 135], [282, 135], [281, 135], [282, 135], [281, 135], [282, 135], [281, 135], [282, 135], [281, 135], [282, 135], [281, 135], [282, 135], [281, 135], [282, 135], [281, 135], [282, 135], [281, 135], [282, 135], [281, 135], [282, 135], [281, 135], [281, 136], [281, 135], [282, 135], [281, 135], [282, 135], [281, 135], [282, 135], [281, 135], [282, 135], [281, 135], [282, 135], [281, 135], [282, 135], [281, 135], [282, 135], [281, 135], [282, 135], [281, 135], [282, 135], [281, 135], [282, 135], [281, 135], [282, 135], [281, 135], [282, 135], [281, 135], [282, 135], [281, 135], [282, 135], [281, 135], [282, 135], [281, 135], [282, 135], [281, 135], [282, 135], [281, 135], [282, 135], [281, 135], [282, 135], [281, 135], [282, 135], [281, 135], [282, 135], [281, 135], [282, 135], [281, 135], [282, 135], [282, 134], [282, 133], [282, 134], [282, 133], [282, 134], [282, 133], [282, 134], [282, 133], [282, 134], [282, 133], [282, 134], [282, 133], [282, 134], [282, 133], [282, 134], [282, 133], [282, 134], [282, 133], [282, 134], [282, 133], [282, 134], [282, 133], [282, 134], [282, 133], [282, 134], [282, 133], [282, 134], [282, 133], [282, 134], [282, 133], [282, 134], [282, 133], [282, 134], [282, 133], [282, 134], [282, 133], [282, 134], [282, 133], [282, 134], [282, 133], [282, 134], [282, 133], [282, 134], [282, 133], [282, 134], [282, 133], [283, 133], [283, 134], [283, 135], [283, 134], [283, 135], [283, 134], [283, 135], [283, 134], [283, 135], [283, 134], [283, 135], [282, 135], [281, 135], [282, 135], [281, 135], [282, 135], [281, 135], [282, 135], [281, 135], [282, 135], [281, 135], [282, 135], [281, 135], [282, 135], [281, 135], [282, 135], [281, 135], [282, 135], [281, 135], [282, 135], [281, 135], [282, 135], [281, 135], [282, 135], [281, 135], [282, 135], [281, 135], [282, 135], [281, 135], [282, 135], [281, 135], [282, 135], [281, 135], [282, 135], [281, 135], [281, 134], [281, 133], [281, 132], [281, 133], [281, 132], [281, 133], [281, 132], [280, 132], [280, 133], [280, 132], [280, 133], [280, 132], [280, 133], [280, 132], [280, 133], [280, 132], [280, 133], [280, 132], [280, 133], [280, 132], [280, 133], [280, 132], [280, 133], [280, 132], [280, 133], [280, 132], [280, 133], [280, 132], [280, 133], [280, 132], [280, 133], [280, 132], [280, 133], [280, 134], [280, 133], [280, 132], [280, 133], [280, 132], [280, 133], [280, 132], [280, 133], [280, 132], [280, 133], [280, 132], [280, 133], [280, 132], [280, 133], [280, 132], [280, 133], [280, 132], [280, 133], [280, 132], [280, 133], [280, 132], [280, 133], [280, 132], [280, 133], [280, 132], [280, 133], [280, 132], [280, 133], [280, 132], [280, 133], [280, 132], [280, 133], [280, 132], [280, 133], [280, 132], [280, 133], [281, 133], [281, 132], [281, 133], [281, 132], [281, 133], [281, 132], [281, 133], [281, 132], [281, 133], [281, 132], [281, 133], [281, 132], [281, 133], [281, 132], [281, 133], [281, 132], [281, 133], [281, 132], [281, 133], [281, 132], [281, 133], [281, 132], [281, 133], [281, 132], [281, 133], [281, 132], [281, 133], [281, 132], [281, 133], [281, 132], [281, 133], [282, 133], [282, 134], [282, 133], [282, 132], [282, 133], [282, 134], [282, 133], [282, 134], [282, 133], [282, 134], [282, 133], [282, 134], [282, 133], [282, 134], [282, 133], [282, 134], [282, 133], [282, 134], [282, 133], [282, 134], [282, 133], [282, 134], [282, 133], [282, 134], [282, 133], [282, 134], [282, 133], [282, 134], [282, 133], [282, 134], [282, 133], [282, 134], [283, 134], [283, 135], [283, 134], [283, 135], [283, 134], [283, 135], [283, 134], [283, 135], [283, 134], [283, 135], [283, 134], [283, 135], [283, 134], [283, 135], [283, 134], [283, 135], [283, 134], [283, 135], [283, 134], [283, 135], [283, 134], [283, 135], [283, 134], [283, 135], [283, 134], [283, 135], [283, 134], [283, 135], [283, 134], [283, 135], [283, 134], [283, 135], [283, 134], [283, 135], [283, 134], [283, 135], [283, 134], [282, 134], [282, 133], [282, 134], [282, 133], [282, 134], [282, 133], [282, 134], [282, 133], [282, 134], [282, 133], [282, 134], [282, 133], [282, 134], [282, 133], [282, 134], [282, 133], [282, 134], [282, 133], [282, 134], [282, 133], [282, 134], [282, 133], [282, 134], [282, 133], [282, 134], [282, 135], [281, 135], [282, 135], [281, 135], [282, 135], [281, 135], [282, 135], [281, 135], [282, 135], [281, 135], [282, 135], [281, 135], [282, 135], [281, 135], [282, 135], [281, 135], [282, 135], [281, 135], [282, 135], [281, 135], [282, 135], [281, 135], [282, 135], [281, 135], [282, 135], [281, 135], [282, 135], [281, 135], [282, 135], [281, 135], [282, 135], [281, 135], [282, 135], [281, 135], [282, 135], [281, 135], [282, 135], [281, 135], [282, 135], [281, 135], [282, 135], [281, 135], [282, 135], [281, 135], [282, 135], [281, 135], [282, 135], [281, 135], [282, 135], [281, 135], [282, 135], [281, 135], [282, 135], [281, 135], [282, 135], [281, 135], [282, 135], [281, 135], [282, 135], [281, 135], [282, 135], [281, 135], [281, 134], [281, 133], [281, 132], [281, 133], [282, 133], [282, 134], [283, 134], [283, 135], [283, 134], [283, 135], [283, 134], [283, 135], [283, 134], [284, 134], [283, 134], [283, 135], [283, 134], [283, 135], [283, 134], [283, 135], [283, 134], [283, 135], [283, 134], [283, 135], [283, 134], [283, 135], [283, 134], [283, 135], [283, 134], [283, 135], [283, 134], [283, 135], [283, 134], [283, 135], [283, 134], [283, 135], [283, 134], [283, 135], [283, 134], [283, 135], [283, 134], [283, 135], [283, 134], [283, 135], [283, 134], [283, 135], [283, 134], [283, 135], [283, 134], [283, 135], [283, 134], [283, 135], [283, 134], [283, 135], [283, 134], [283, 135], [283, 134], [283, 135], [283, 134], [283, 135], [283, 134], [283, 135], [283, 134], [283, 135], [283, 134], [283, 135], [283, 134], [283, 135], [283, 134], [283, 135], [283, 134], [283, 135], [283, 134], [283, 135], [283, 134], [283, 135], [283, 134], [283, 135], [283, 134], [283, 135], [283, 134], [283, 135], [283, 134], [283, 135], [283, 134], [283, 135], [283, 134], [283, 135], [283, 134], [283, 135], [283, 134], [283, 135], [283, 134], [283, 135], [283, 134], [283, 135], [283, 134], [283, 135], [283, 134], [283, 135], [283, 134], [283, 135], [283, 134], [283, 135], [283, 134], [283, 135], [283, 134], [283, 135], [283, 134], [283, 135], [284, 135], [284, 134], [283, 134], [283, 135], [283, 134], [283, 135], [283, 134], [283, 135], [283, 134], [283, 135], [283, 134], [282, 134], [282, 133], [282, 134], [282, 133], [282, 132], [282, 133], [282, 134], [282, 133], [282, 134], [282, 133], [282, 134], [282, 133], [282, 134], [282, 133], [282, 134], [282, 133], [282, 134], [282, 133], [282, 134], [282, 133], [282, 134], [282, 133], [282, 134], [282, 133], [282, 134], [282, 133], [282, 134], [282, 133], [282, 134], [282, 133], [282, 134], [282, 133], [282, 134], [282, 133], [282, 134], [282, 133], [282, 134], [282, 133], [282, 134], [282, 133], [281, 133], [281, 132], [281, 133], [281, 132], [281, 133], [281, 132], [281, 133], [281, 132], [281, 133], [281, 132], [281, 133], [281, 132], [281, 133], [281, 132], [281, 133], [281, 132], [281, 133], [281, 132], [281, 133], [281, 132], [281, 133], [281, 132], [281, 133], [281, 132], [281, 133], [281, 132], [281, 133], [281, 132], [281, 133], [281, 132], [281, 133], [281, 132], [281, 133], [281, 132], [281, 133], [281, 132], [281, 133], [281, 132], [281, 131], [281, 132], [281, 133], [281, 132], [281, 133], [281, 132], [281, 133], [281, 132], [281, 133], [281, 132], [281, 133], [280, 133], [280, 132], [280, 133], [280, 132], [280, 133], [280, 132], [280, 133], [280, 132], [280, 133], [280, 132], [280, 133], [280, 132], [280, 133], [280, 132], [280, 133], [279, 133], [279, 132], [279, 133], [279, 132], [279, 133], [279, 132], [279, 133], [279, 132], [279, 133], [279, 132], [279, 133], [279, 132], [279, 133], [279, 132], [279, 133], [279, 132], [279, 133], [279, 132], [279, 133], [279, 132], [279, 133], [279, 132], [278, 132], [278, 131], [277, 131], [276, 131], [276, 132], [275, 132], [275, 131], [275, 130], [275, 131], [275, 132], [275, 131], [275, 132], [275, 131], [275, 132], [275, 131], [275, 132], [275, 131], [274, 131], [274, 130], [273, 130], [273, 129], [273, 128], [273, 129], [273, 128], [273, 129], [273, 128], [273, 129], [273, 128], [273, 129], [273, 128], [273, 129], [273, 128], [273, 129], [273, 128], [273, 129], [273, 128], [273, 129], [273, 128], [273, 129], [273, 128], [273, 129], [273, 128], [273, 129], [273, 128], [273, 129], [273, 128], [273, 129], [273, 128], [273, 129], [273, 128], [273, 129], [273, 128], [273, 129], [273, 128], [273, 129], [273, 128], [273, 129], [273, 128], [273, 129], [274, 129], [274, 130], [273, 130], [273, 129], [273, 128], [273, 129], [273, 128], [273, 129], [273, 128], [273, 129], [273, 128], [273, 129], [273, 128], [273, 129], [273, 128], [273, 129], [273, 128], [272, 128], [272, 129], [273, 129], [273, 128], [273, 129], [273, 128], [273, 129], [273, 128], [273, 129], [273, 128], [273, 129], [273, 128], [273, 129], [273, 128], [273, 129], [273, 128], [273, 129], [273, 128], [273, 129], [273, 128], [273, 129], [273, 128], [273, 129], [273, 128], [273, 129], [273, 128], [273, 129], [273, 128], [273, 129], [273, 128], [273, 129], [273, 128], [273, 129], [273, 128], [273, 129], [273, 128], [273, 129], [273, 128], [273, 129], [273, 128], [273, 129], [273, 128], [273, 129], [273, 128], [273, 129], [273, 128], [273, 129], [273, 128], [273, 129], [273, 128], [273, 129], [273, 128], [273, 129], [273, 128], [273, 129], [273, 128], [273, 129], [273, 128], [273, 129], [273, 128], [273, 129], [274, 129], [275, 129], [275, 130], [275, 131], [275, 132], [275, 131], [275, 132], [275, 131], [275, 132], [275, 131], [275, 132], [275, 131], [275, 132], [275, 131], [275, 132], [275, 131], [275, 132], [275, 131], [275, 132], [275, 131], [275, 132], [275, 131], [275, 132], [275, 131], [275, 132], [275, 131], [275, 132], [275, 131], [275, 132], [275, 131], [275, 132], [275, 131], [275, 132], [275, 131], [275, 132], [275, 131], [275, 132], [275, 131], [274, 131], [274, 130], [273, 130], [273, 129], [273, 128], [273, 129], [273, 128], [273, 129], [273, 128], [273, 129], [273, 128], [273, 129], [273, 128], [273, 129], [273, 128], [273, 129], [273, 128], [273, 129], [273, 128], [273, 129], [273, 128], [273, 129], [273, 128], [273, 129], [273, 128], [273, 129], [273, 128], [273, 129], [273, 128], [273, 129], [273, 128], [273, 129], [273, 128], [273, 129], [273, 128], [273, 129], [273, 128], [273, 129], [273, 128], [273, 129], [273, 128], [273, 129], [273, 128], [273, 129], [273, 128], [273, 129], [273, 128], [273, 129], [273, 128], [273, 129], [273, 128], [273, 129], [273, 128], [273, 129], [273, 128], [273, 129], [273, 128], [273, 129], [273, 128], [273, 129], [273, 128], [273, 129], [273, 128], [273, 129], [273, 128], [273, 129], [273, 128], [273, 129], [273, 128], [273, 129], [273, 128], [273, 129], [273, 128], [273, 129], [273, 128], [273, 129], [273, 128], [273, 129], [273, 128], [273, 129], [273, 128], [273, 129], [273, 128], [273, 129], [273, 128], [273, 129], [273, 128], [273, 129], [273, 128], [273, 129], [273, 128], [273, 129], [273, 128], [273, 129], [273, 128], [273, 129], [273, 128], [273, 129], [273, 128], [273, 129], [273, 128], [273, 129], [273, 128], [273, 129], [273, 128], [273, 129], [273, 128], [273, 129], [273, 128], [273, 129], [273, 128], [273, 129], [273, 128], [273, 129], [273, 128], [273, 129], [273, 128], [273, 129], [273, 128], [273, 129], [273, 128], [273, 129], [273, 128], [273, 129], [273, 128], [273, 129], [272, 129], [272, 128], [272, 129], [272, 128], [272, 129], [272, 128], [272, 129], [272, 128], [272, 129], [272, 128], [272, 129], [272, 128], [272, 129], [273, 129], [273, 128], [273, 129], [273, 128], [273, 129], [273, 128], [273, 129], [273, 128], [273, 129], [273, 128], [273, 129], [273, 128], [273, 129], [273, 128], [273, 129], [273, 128], [273, 129], [273, 128], [273, 129], [273, 128], [273, 129], [273, 128], [273, 129], [273, 128], [273, 129], [273, 128], [273, 129], [273, 128], [273, 129], [273, 128], [273, 129], [273, 128], [273, 129], [273, 128], [273, 129], [273, 128], [273, 129], [273, 128], [273, 129], [273, 128], [273, 129], [273, 128], [273, 129], [273, 128], [273, 129], [273, 128], [273, 129], [273, 128], [273, 129], [273, 128], [273, 129], [273, 128], [273, 129], [273, 128], [273, 129], [273, 128], [273, 129], [273, 128], [273, 129], [273, 128], [273, 129], [273, 128], [273, 129], [273, 128], [273, 129], [273, 128], [273, 129], [273, 128], [273, 129], [273, 128], [273, 129], [273, 128], [273, 129], [273, 128], [273, 129], [273, 128], [273, 129], [273, 130], [272, 130], [272, 129], [272, 128], [272, 129], [272, 128], [272, 129], [272, 128], [272, 129], [272, 128], [272, 129], [272, 128], [271, 128], [271, 129], [270, 129], [269, 129], [270, 129], [269, 129], [270, 129], [269, 129], [270, 129], [269, 129], [270, 129], [269, 129], [270, 129], [269, 129], [270, 129], [269, 129], [270, 129], [269, 129], [270, 129], [269, 129], [270, 129], [269, 129], [270, 129], [269, 129], [270, 129], [269, 129], [270, 129], [269, 129], [270, 129], [269, 129], [270, 129], [269, 129], [270, 129], [269, 129], [270, 129], [269, 129], [269, 128], [269, 127], [269, 126], [269, 127], [269, 126], [269, 127], [269, 126], [269, 127], [268, 127], [267, 127], [266, 127], [265, 127], [264, 127], [263, 127], [264, 127], [263, 127], [264, 127], [263, 127], [264, 127], [263, 127], [264, 127], [263, 127], [264, 127], [263, 127], [264, 127], [265, 127], [264, 127], [263, 127], [264, 127], [263, 127], [264, 127], [263, 127], [263, 128], [264, 128], [264, 127], [263, 127], [264, 127], [263, 127], [264, 127], [263, 127], [264, 127], [265, 127], [264, 127], [263, 127], [264, 127], [263, 127], [264, 127], [263, 127], [264, 127], [263, 127], [264, 127], [263, 127], [264, 127], [263, 127], [264, 127], [263, 127], [264, 127], [263, 127], [263, 126], [263, 125], [262, 125], [262, 124], [263, 124], [262, 124], [263, 124], [263, 125], [262, 125], [262, 124], [263, 124], [262, 124], [263, 124], [262, 124], [263, 124], [262, 124], [263, 124], [262, 124], [263, 124], [262, 124], [263, 124], [262, 124], [263, 124], [262, 124], [263, 124], [262, 124], [263, 124], [262, 124], [263, 124], [262, 124], [263, 124], [262, 124], [263, 124], [262, 124], [263, 124], [262, 124], [263, 124], [262, 124], [263, 124], [262, 124], [263, 124], [262, 124], [263, 124], [263, 123], [262, 123], [261, 123], [261, 122], [261, 121], [261, 120], [262, 120], [261, 120], [262, 120], [261, 120], [262, 120], [261, 120], [262, 120], [261, 120], [262, 120], [261, 120], [262, 120], [261, 120], [262, 120], [261, 120], [262, 120], [261, 120], [262, 120], [261, 120], [262, 120], [261, 120], [262, 120], [261, 120], [262, 120], [261, 120], [262, 120], [261, 120], [262, 120], [261, 120], [262, 120], [261, 120], [262, 120], [261, 120], [262, 120], [261, 120], [262, 120], [261, 120], [262, 120], [262, 121], [262, 120], [262, 121], [261, 121], [261, 120], [261, 119], [262, 119], [261, 119], [262, 119], [261, 119], [262, 119], [261, 119], [262, 119], [261, 119], [262, 119], [261, 119], [262, 119], [261, 119], [262, 119], [261, 119], [262, 119], [261, 119], [262, 119], [261, 119], [262, 119], [261, 119], [262, 119], [261, 119], [262, 119], [261, 119], [262, 119], [261, 119], [262, 119], [261, 119], [262, 119], [261, 119], [262, 119], [261, 119], [262, 119], [261, 119], [262, 119], [261, 119], [262, 119], [261, 119], [262, 119], [261, 119], [262, 119], [262, 120], [261, 120], [262, 120], [261, 120], [262, 120], [261, 120], [262, 120], [261, 120], [262, 120], [261, 120], [262, 120], [261, 120], [262, 120], [261, 120], [262, 120], [261, 120], [262, 120], [261, 120], [261, 119], [262, 119], [261, 119], [262, 119], [261, 119], [262, 119], [261, 119], [262, 119], [261, 119], [262, 119], [261, 119], [262, 119], [263, 119], [262, 119], [261, 119], [262, 119], [261, 119], [262, 119], [261, 119], [262, 119], [261, 119], [262, 119], [261, 119], [262, 119], [261, 119], [262, 119], [261, 119], [262, 119], [261, 119], [262, 119], [261, 119], [262, 119], [261, 119], [262, 119], [261, 119], [262, 119], [261, 119], [262, 119], [261, 119], [262, 119], [261, 119], [262, 119], [261, 119], [262, 119], [261, 119], [261, 118], [260, 118], [261, 118], [260, 118], [261, 118], [260, 118], [261, 118], [260, 118], [261, 118], [260, 118], [261, 118], [260, 118], [261, 118], [260, 118], [261, 118], [260, 118], [261, 118], [260, 118], [261, 118], [260, 118], [261, 118], [260, 118], [261, 118], [260, 118], [261, 118], [260, 118], [261, 118], [260, 118], [261, 118], [260, 118], [261, 118], [260, 118], [261, 118], [260, 118], [261, 118], [260, 118], [261, 118], [260, 118], [261, 118], [260, 118], [261, 118], [260, 118], [261, 118], [260, 118], [261, 118], [260, 118], [261, 118], [260, 118], [261, 118], [260, 118], [261, 118], [260, 118], [261, 118], [260, 118], [261, 118], [260, 118], [261, 118], [260, 118], [261, 118], [260, 118], [261, 118], [260, 118], [261, 118], [260, 118], [261, 118], [260, 118], [261, 118], [260, 118], [261, 118], [260, 118], [261, 118], [260, 118], [261, 118], [260, 118], [261, 118], [260, 118], [261, 118], [260, 118], [261, 118], [260, 118], [261, 118], [260, 118], [261, 118], [260, 118], [261, 118], [260, 118], [261, 118], [260, 118], [261, 118], [260, 118], [261, 118], [260, 118], [261, 118], [260, 118], [260, 119], [260, 118], [261, 118], [260, 118], [261, 118], [261, 117], [260, 117], [260, 116], [259, 116], [259, 115], [259, 114], [260, 114], [259, 114], [258, 114], [258, 115], [258, 114], [258, 115], [258, 114], [258, 115], [258, 114], [258, 115], [258, 114], [258, 115], [258, 114], [258, 115], [258, 114], [258, 115], [258, 114], [258, 115], [258, 114], [258, 115], [258, 114], [258, 115], [258, 114], [258, 115], [258, 114], [258, 115], [259, 115], [259, 114], [258, 114], [258, 115], [258, 114], [258, 115], [258, 114], [258, 115], [258, 114], [258, 115], [258, 114], [258, 115], [258, 114], [258, 115], [258, 114], [258, 115], [258, 114], [258, 115], [258, 114], [258, 115], [258, 114], [258, 115], [258, 114], [258, 115], [258, 114], [258, 115], [258, 114], [258, 115], [258, 114], [258, 115], [258, 114], [258, 115], [258, 114], [258, 115], [258, 114], [258, 115], [258, 114], [258, 115], [258, 114], [258, 115], [258, 114], [258, 115], [258, 114], [258, 115], [258, 114], [258, 115], [258, 114], [258, 115], [258, 114], [259, 114], [258, 114], [258, 115], [258, 114], [258, 115], [258, 114], [258, 115], [258, 114], [258, 115], [258, 114], [258, 115], [258, 114], [258, 115], [258, 114], [258, 115], [258, 114], [258, 115], [258, 114], [258, 115], [258, 114], [258, 115], [258, 114], [258, 115], [258, 114], [258, 115], [258, 114], [258, 115], [258, 114], [258, 115], [258, 114], [258, 115], [258, 114], [258, 115], [258, 114], [258, 115], [258, 114], [258, 115], [258, 114], [258, 115], [258, 114], [258, 115], [258, 114], [258, 115], [258, 114], [258, 115], [258, 114], [258, 115], [258, 114], [258, 115], [258, 114], [258, 115], [258, 114], [258, 115], [258, 114], [258, 115], [258, 114], [258, 115], [258, 114], [258, 115], [258, 114], [258, 115], [258, 114], [258, 115], [258, 114], [258, 115], [257, 115], [256, 115], [255, 115], [256, 115], [255, 115], [256, 115], [256, 116], [255, 116], [255, 115], [256, 115], [255, 115], [256, 115], [255, 115], [256, 115], [255, 115], [256, 115], [255, 115], [256, 115], [255, 115], [256, 115], [255, 115], [256, 115], [255, 115], [256, 115], [255, 115], [256, 115], [255, 115], [256, 115], [255, 115], [256, 115], [255, 115], [256, 115], [255, 115], [256, 115], [255, 115], [256, 115], [255, 115], [256, 115], [255, 115], [256, 115], [255, 115], [256, 115], [255, 115], [256, 115], [255, 115], [256, 115], [255, 115], [255, 116], [255, 115], [256, 115], [255, 115], [256, 115], [255, 115], [256, 115], [255, 115], [256, 115], [255, 115], [256, 115], [255, 115], [256, 115], [255, 115], [256, 115], [256, 116], [255, 116], [255, 115], [256, 115], [255, 115], [256, 115], [255, 115], [256, 115], [255, 115], [256, 115], [255, 115], [256, 115], [255, 115], [255, 114], [256, 114], [255, 114], [256, 114], [255, 114], [256, 114], [255, 114], [256, 114], [255, 114], [256, 114], [255, 114], [256, 114], [255, 114], [256, 114], [255, 114], [256, 114], [255, 114], [256, 114], [255, 114], [256, 114], [255, 114], [256, 114], [255, 114], [256, 114], [255, 114], [256, 114], [255, 114], [256, 114], [255, 114], [256, 114], [255, 114], [255, 115], [256, 115], [255, 115], [256, 115], [255, 115], [256, 115], [255, 115], [256, 115], [255, 115], [256, 115], [255, 115], [256, 115], [255, 115], [256, 115], [255, 115], [256, 115], [255, 115], [256, 115], [255, 115], [256, 115], [255, 115], [256, 115], [255, 115], [256, 115], [255, 115], [256, 115], [255, 115], [256, 115], [255, 115], [256, 115], [255, 115], [256, 115], [255, 115], [256, 115], [255, 115], [256, 115], [255, 115], [256, 115], [255, 115], [256, 115], [255, 115], [256, 115], [255, 115], [256, 115], [255, 115], [256, 115], [255, 115], [256, 115], [255, 115], [256, 115], [255, 115], [256, 115], [255, 115], [256, 115], [255, 115], [256, 115], [255, 115], [256, 115], [255, 115], [256, 115], [255, 115], [256, 115], [255, 115], [256, 115], [255, 115], [256, 115], [255, 115], [256, 115], [255, 115], [256, 115], [255, 115], [256, 115], [255, 115], [256, 115], [255, 115], [256, 115], [255, 115], [256, 115], [255, 115], [256, 115], [255, 115], [256, 115], [255, 115], [256, 115], [255, 115], [256, 115], [255, 115], [256, 115], [255, 115], [256, 115], [255, 115], [256, 115], [255, 115], [256, 115], [255, 115], [256, 115], [255, 115], [256, 115], [255, 115], [256, 115], [255, 115], [256, 115], [255, 115], [256, 115], [255, 115], [256, 115], [255, 115], [256, 115], [255, 115], [256, 115], [255, 115], [256, 115], [255, 115], [256, 115], [255, 115], [256, 115], [255, 115], [256, 115], [255, 115], [256, 115], [255, 115], [256, 115], [255, 115], [256, 115], [255, 115], [256, 115], [255, 115], [256, 115], [255, 115], [256, 115], [255, 115], [256, 115], [255, 115], [256, 115], [255, 115], [256, 115], [255, 115], [256, 115], [255, 115], [256, 115], [255, 115], [256, 115], [255, 115], [256, 115], [255, 115], [256, 115], [255, 115], [256, 115], [255, 115], [256, 115], [255, 115], [256, 115], [255, 115], [256, 115], [255, 115], [256, 115], [255, 115], [256, 115], [255, 115], [256, 115], [256, 114], [255, 114], [256, 114], [255, 114], [256, 114], [255, 114], [256, 114], [255, 114], [255, 115], [256, 115], [255, 115], [256, 115], [255, 115], [256, 115], [255, 115], [256, 115], [255, 115], [256, 115], [255, 115], [256, 115], [255, 115], [256, 115], [255, 115], [256, 115], [255, 115], [256, 115], [255, 115], [256, 115], [255, 115], [256, 115], [255, 115], [256, 115], [255, 115], [256, 115], [255, 115], [256, 115], [255, 115], [256, 115], [255, 115], [256, 115], [255, 115], [256, 115], [255, 115], [256, 115], [255, 115], [256, 115], [255, 115], [256, 115], [255, 115], [256, 115], [255, 115], [256, 115], [255, 115], [256, 115], [255, 115], [256, 115], [255, 115], [256, 115], [255, 115], [256, 115], [255, 115], [256, 115], [255, 115], [256, 115], [255, 115], [256, 115], [255, 115], [256, 115], [255, 115], [256, 115], [255, 115], [256, 115], [255, 115], [256, 115], [255, 115], [256, 115], [255, 115], [256, 115], [255, 115], [256, 115], [255, 115], [256, 115], [255, 115], [256, 115], [255, 115], [256, 115], [255, 115], [256, 115], [255, 115], [256, 115], [255, 115], [256, 115], [255, 115], [255, 116], [255, 115], [256, 115], [255, 115], [256, 115], [255, 115], [256, 115], [255, 115], [256, 115], [255, 115], [256, 115], [255, 115], [256, 115], [255, 115], [256, 115], [255, 115], [256, 115], [255, 115], [256, 115], [255, 115], [256, 115], [255, 115], [256, 115], [255, 115], [256, 115], [255, 115], [256, 115], [256, 116], [255, 116], [255, 115], [256, 115], [255, 115], [256, 115], [255, 115], [255, 114], [256, 114], [255, 114], [256, 114], [255, 114], [256, 114], [255, 114], [256, 114], [255, 114], [256, 114], [255, 114], [256, 114], [255, 114], [256, 114], [255, 114], [256, 114], [255, 114], [256, 114], [255, 114], [256, 114], [255, 114], [256, 114], [255, 114], [256, 114], [255, 114], [256, 114], [255, 114], [256, 114], [255, 114], [256, 114], [255, 114], [256, 114], [255, 114], [256, 114], [255, 114], [256, 114], [255, 114], [256, 114], [255, 114], [256, 114], [255, 114], [256, 114], [255, 114], [256, 114], [255, 114], [256, 114], [255, 114], [256, 114], [255, 114], [256, 114], [255, 114], [256, 114], [255, 114], [256, 114], [255, 114], [256, 114], [255, 114], [256, 114], [255, 114], [256, 114], [255, 114], [256, 114], [255, 114], [256, 114], [255, 114], [256, 114], [255, 114], [256, 114], [255, 114], [256, 114], [255, 114], [256, 114], [255, 114], [256, 114], [255, 114], [256, 114], [255, 114], [256, 114], [255, 114], [256, 114], [255, 114], [256, 114], [255, 114], [256, 114], [255, 114], [256, 114], [255, 114], [256, 114], [255, 114], [256, 114], [257, 114], [256, 114], [255, 114], [256, 114], [255, 114], [256, 114], [255, 114], [256, 114], [255, 114], [256, 114], [255, 114], [256, 114], [255, 114], [256, 114], [255, 114], [255, 115], [256, 115], [255, 115], [256, 115], [255, 115], [256, 115], [255, 115], [256, 115], [255, 115], [256, 115], [255, 115], [256, 115], [255, 115], [256, 115], [255, 115], [256, 115], [255, 115], [256, 115], [255, 115], [256, 115], [255, 115], [256, 115], [256, 114], [255, 114], [256, 114], [255, 114], [256, 114], [255, 114], [256, 114], [255, 114], [256, 114], [255, 114], [256, 114], [255, 114], [255, 113], [255, 112], [256, 112], [255, 112], [256, 112], [255, 112], [256, 112], [256, 113], [255, 113], [255, 112], [256, 112], [255, 112], [256, 112], [255, 112], [256, 112], [255, 112], [256, 112], [255, 112], [256, 112], [255, 112], [256, 112], [255, 112], [256, 112], [255, 112], [256, 112], [255, 112], [256, 112], [255, 112], [256, 112], [255, 112], [256, 112], [255, 112], [256, 112], [255, 112], [256, 112], [255, 112], [256, 112], [256, 111], [256, 110], [256, 111], [255, 111], [254, 111], [254, 110], [253, 110], [253, 109], [253, 108], [252, 108], [253, 108], [252, 108], [251, 108], [250, 108], [251, 108], [251, 107], [250, 107], [251, 107], [250, 107], [251, 107], [250, 107], [251, 107], [250, 107], [251, 107], [250, 107], [251, 107], [250, 107], [250, 108], [251, 108], [250, 108], [251, 108], [250, 108], [251, 108], [250, 108], [251, 108], [250, 108], [251, 108], [250, 108], [251, 108], [250, 108], [251, 108], [250, 108], [251, 108], [250, 108], [251, 108], [250, 108], [251, 108], [250, 108], [251, 108], [250, 108], [251, 108], [250, 108], [251, 108], [250, 108], [251, 108], [250, 108], [251, 108], [250, 108], [251, 108], [250, 108], [251, 108], [250, 108], [251, 108], [250, 108], [250, 107], [251, 107], [250, 107], [251, 107], [250, 107], [251, 107], [251, 108], [250, 108], [251, 108], [250, 108], [251, 108], [250, 108], [251, 108], [250, 108], [251, 108], [250, 108], [251, 108], [250, 108], [251, 108], [250, 108], [251, 108], [250, 108], [251, 108], [250, 108], [251, 108], [250, 108], [251, 108], [250, 108], [251, 108], [250, 108], [251, 108], [250, 108], [251, 108], [250, 108], [251, 108], [250, 108], [251, 108], [250, 108], [251, 108], [250, 108], [251, 108], [250, 108], [251, 108], [250, 108], [251, 108], [250, 108], [251, 108], [250, 108], [251, 108], [250, 108], [251, 108], [250, 108], [251, 108], [250, 108], [251, 108], [250, 108], [251, 108], [250, 108], [251, 108], [250, 108], [251, 108], [250, 108], [251, 108], [251, 107], [250, 107], [251, 107], [250, 107], [251, 107], [250, 107], [251, 107], [250, 107], [251, 107], [250, 107], [251, 107], [250, 107], [251, 107], [250, 107], [251, 107], [250, 107], [251, 107], [250, 107], [251, 107], [250, 107], [251, 107], [250, 107], [251, 107], [250, 107], [251, 107], [250, 107], [251, 107], [250, 107], [251, 107], [250, 107], [251, 107], [251, 106], [250, 106], [249, 106], [248, 106], [249, 106], [248, 106], [249, 106], [248, 106], [249, 106], [248, 106], [249, 106], [248, 106], [249, 106], [248, 106], [249, 106], [248, 106], [249, 106], [249, 107], [249, 108], [249, 107], [249, 108], [249, 107], [249, 108], [249, 107], [249, 108], [249, 107], [249, 108], [249, 107], [249, 108], [249, 107], [249, 108], [249, 107], [249, 108], [249, 107], [249, 108], [249, 107], [249, 108], [249, 107], [249, 108], [249, 107], [249, 108], [249, 107], [249, 108], [249, 107], [249, 108], [249, 107], [249, 106], [248, 106], [249, 106], [248, 106], [249, 106], [248, 106], [249, 106], [248, 106], [249, 106], [248, 106], [249, 106], [248, 106], [249, 106], [248, 106], [249, 106], [248, 106], [249, 106], [248, 106], [249, 106], [249, 107], [249, 108], [249, 107], [249, 108], [249, 107], [249, 108], [249, 107], [249, 108], [249, 107], [249, 108], [249, 107], [249, 108], [249, 107], [249, 108], [249, 107], [249, 108], [249, 107], [249, 108], [249, 107], [249, 108], [249, 107], [249, 108], [249, 107], [249, 108], [248, 108], [248, 107], [248, 108], [248, 107], [248, 108], [248, 107], [248, 108], [248, 107], [248, 108], [248, 107], [248, 108], [248, 107], [248, 108], [248, 107], [248, 108], [248, 107], [248, 108], [248, 107], [248, 108], [248, 107], [248, 108], [248, 107], [248, 108], [248, 107], [248, 108], [248, 107], [248, 108], [248, 107], [248, 108], [248, 107], [248, 108], [248, 107], [248, 108], [248, 107], [248, 108], [248, 107], [248, 108], [248, 107], [248, 108], [248, 107], [248, 108], [248, 107], [248, 108], [248, 107], [248, 108], [248, 107], [248, 108], [249, 108], [249, 107], [249, 108], [249, 107], [249, 108], [249, 107], [249, 108], [249, 109], [249, 108], [249, 107], [249, 108], [249, 107], [249, 108], [249, 107], [249, 108], [249, 107], [249, 108], [249, 107], [249, 108], [249, 107], [249, 108], [249, 107], [249, 108], [249, 107], [249, 108], [249, 107], [249, 108], [249, 107], [249, 108], [249, 107], [249, 108], [249, 107], [249, 108], [249, 107], [249, 108], [249, 107], [249, 108], [249, 107], [249, 108], [249, 107], [249, 108], [249, 107], [249, 108], [249, 107], [249, 108], [249, 107], [249, 108], [249, 107], [249, 108], [249, 107], [249, 108], [249, 107], [249, 108], [249, 107], [249, 108], [249, 107], [249, 108], [249, 107], [249, 108], [249, 107], [249, 108], [249, 107], [249, 108], [249, 107], [249, 108], [249, 107], [249, 108], [249, 107], [249, 108], [249, 107], [249, 108], [249, 107], [249, 108], [249, 107], [249, 108], [249, 107], [249, 108], [249, 107], [249, 108], [249, 107], [248, 107], [248, 108], [248, 107], [248, 108], [248, 107], [248, 108], [248, 107], [248, 108], [248, 107], [248, 108], [248, 107], [248, 108], [248, 107], [248, 108], [248, 107], [248, 108], [248, 107], [248, 108], [248, 107], [248, 108], [247, 108], [247, 109], [247, 108], [247, 109], [247, 108], [247, 109], [247, 108], [247, 109], [247, 110], [247, 109], [247, 108], [247, 109], [248, 109], [247, 109], [247, 108], [247, 109], [247, 108], [247, 109], [247, 108], [247, 109], [247, 110], [247, 109], [247, 110], [247, 109], [247, 108], [247, 109], [247, 108], [247, 109], [247, 108], [247, 109], [247, 108], [247, 109], [247, 108], [247, 109], [247, 108], [248, 108], [248, 107], [248, 108], [248, 107], [248, 108], [248, 107], [248, 108], [248, 107], [248, 108], [248, 107], [248, 108], [248, 107], [248, 108], [248, 107], [248, 108], [248, 107], [248, 108], [248, 107], [248, 108], [248, 107], [248, 108], [248, 107], [248, 108], [248, 107], [248, 108], [248, 107], [248, 108], [248, 107], [248, 108], [248, 107], [248, 108], [248, 107], [248, 108], [248, 107], [248, 108], [248, 107], [248, 108], [248, 107], [248, 108], [248, 107], [248, 108], [248, 107], [248, 108], [248, 107], [248, 108], [248, 107], [248, 108], [248, 107], [248, 108], [248, 107], [248, 108], [248, 107], [248, 108], [248, 107], [248, 108], [248, 107], [248, 108], [248, 107], [247, 107], [247, 106], [247, 105], [247, 104], [246, 104], [245, 104], [245, 105], [245, 106], [245, 105], [245, 106], [245, 105], [245, 106], [245, 105], [245, 106], [245, 105], [245, 106], [245, 105], [245, 106], [245, 105], [245, 106], [245, 105], [245, 106], [245, 105], [245, 106], [245, 105], [245, 106], [245, 105], [245, 106], [245, 105], [245, 106], [245, 105], [245, 106], [245, 105], [245, 106], [245, 105], [245, 106], [245, 105], [245, 106], [246, 106], [246, 105], [246, 104], [245, 104], [245, 105], [245, 106], [245, 105], [245, 106], [245, 105], [245, 106], [245, 105], [245, 106], [245, 105], [245, 106], [245, 105], [245, 106], [245, 105], [245, 106], [245, 105], [245, 106], [245, 107], [245, 106], [245, 105], [245, 106], [245, 105], [245, 106], [245, 105], [245, 106], [245, 105], [245, 106], [245, 105], [245, 106], [245, 105], [245, 106], [245, 105], [245, 106], [245, 105], [245, 106], [245, 105], [245, 106], [245, 105], [245, 106], [245, 105], [245, 106], [245, 105], [245, 106], [245, 105], [245, 106], [245, 105], [245, 106], [245, 105], [246, 105], [246, 104], [245, 104], [245, 105], [245, 106], [245, 105], [245, 106], [245, 105], [245, 106], [245, 105], [245, 106], [245, 105], [245, 106], [245, 105], [245, 106], [245, 105], [246, 105], [246, 104], [245, 104], [245, 105], [245, 104], [245, 105], [245, 106], [245, 105], [245, 106], [245, 105], [245, 106], [245, 105], [245, 106], [245, 105], [245, 106], [245, 105], [245, 106], [245, 105], [245, 106], [245, 105], [245, 106], [245, 105], [246, 105], [246, 104], [245, 104], [245, 105], [245, 106], [245, 105], [245, 106], [245, 105], [245, 106], [245, 105], [245, 106], [245, 105], [245, 106], [245, 105], [245, 106], [245, 105], [245, 106], [245, 105], [245, 106], [245, 105], [245, 106], [245, 105], [245, 106], [245, 105], [245, 106], [245, 105], [245, 106], [245, 105], [245, 106], [244, 106], [244, 105], [244, 104], [243, 104], [243, 105], [243, 104], [243, 105], [243, 104], [243, 105], [243, 104], [243, 105], [243, 104], [243, 105], [243, 104], [243, 105], [243, 104], [243, 105], [243, 104], [243, 105], [243, 104], [243, 105], [243, 104], [243, 103], [242, 103], [242, 104], [242, 105], [242, 106], [242, 105], [242, 106], [242, 105], [242, 106], [242, 105], [242, 106], [242, 105], [242, 106], [242, 105], [242, 106], [242, 105], [242, 106], [242, 105], [242, 106], [242, 105], [242, 106], [242, 105], [242, 106], [242, 105], [242, 106], [242, 105], [242, 106], [242, 105], [242, 106], [242, 105], [242, 106], [242, 105], [242, 106], [242, 105], [242, 106], [242, 105], [242, 106], [242, 105], [242, 106], [242, 105], [242, 106], [242, 105], [242, 106], [242, 105], [242, 106], [242, 105], [242, 106], [242, 105], [242, 106], [242, 105], [242, 106], [242, 105], [242, 106], [242, 105], [242, 106], [242, 105], [242, 106], [242, 105], [242, 106], [242, 105], [242, 106], [242, 105], [242, 106], [242, 105], [242, 106], [242, 105], [242, 106], [242, 105], [242, 106], [242, 105], [242, 106], [242, 105], [242, 106], [242, 105], [242, 104], [242, 105], [242, 106], [242, 105], [242, 106], [242, 105], [242, 106], [242, 105], [242, 106], [242, 105], [242, 106], [242, 105], [242, 106], [242, 105], [242, 106], [242, 105], [242, 106], [242, 105], [242, 106], [242, 105], [242, 106], [242, 105], [242, 106], [242, 105], [242, 106], [242, 105], [242, 106], [242, 105], [242, 106], [242, 105], [242, 106], [242, 105], [242, 106], [242, 105], [242, 106], [242, 105], [242, 106], [242, 105], [241, 105], [241, 106], [240, 106], [240, 105], [240, 106], [239, 106], [238, 106], [238, 105], [238, 106], [238, 105], [238, 106], [238, 105], [238, 104], [238, 105], [238, 106], [238, 105], [237, 105], [237, 106], [237, 107], [237, 108], [237, 107], [237, 108], [238, 108], [238, 107], [237, 107], [237, 108], [237, 107], [237, 108], [237, 107], [237, 108], [237, 107], [237, 108], [237, 107], [237, 108], [237, 107], [237, 108], [237, 107], [237, 108], [237, 107], [237, 108], [237, 107], [237, 108], [237, 107], [237, 108], [237, 107], [237, 108], [237, 107], [237, 108], [237, 107], [237, 108], [237, 107], [237, 106], [237, 107], [237, 108], [237, 109], [237, 108], [237, 107], [237, 108], [237, 107], [237, 108], [237, 107], [237, 108], [237, 107], [237, 108], [237, 107], [237, 108], [237, 107], [237, 108], [237, 107], [237, 108], [237, 107], [237, 108], [237, 107], [237, 108], [237, 107], [237, 108], [237, 107], [237, 108], [237, 107], [237, 108], [237, 107], [237, 108], [237, 107], [237, 108], [237, 107], [237, 108], [237, 107], [237, 108], [237, 107], [237, 108], [237, 107], [237, 108], [237, 107], [237, 108], [237, 107], [237, 108], [237, 107], [237, 108], [237, 107], [237, 108], [237, 107], [237, 108], [237, 107], [237, 108], [237, 107], [237, 108], [237, 107], [237, 108], [237, 107], [237, 108], [237, 107], [238, 107], [237, 107], [237, 108], [237, 107], [237, 108], [237, 107], [237, 108], [237, 107], [237, 108], [237, 107], [237, 108], [237, 107], [237, 108], [237, 107], [237, 108], [237, 107], [237, 108], [237, 107], [237, 108], [237, 107], [237, 108], [237, 107], [237, 108], [237, 107], [237, 108], [237, 107], [237, 108], [237, 107], [237, 108], [237, 107], [237, 108], [237, 107], [237, 108], [237, 107], [237, 108], [237, 107], [237, 108], [237, 107], [237, 108], [237, 107], [237, 108], [237, 107], [237, 108], [237, 107], [237, 108], [237, 107], [237, 108], [237, 107], [237, 108], [237, 107], [237, 108], [237, 107], [237, 108], [237, 107], [237, 108], [237, 107], [237, 108], [237, 107], [237, 108], [237, 107], [237, 108], [237, 107], [237, 108], [237, 107], [237, 108], [237, 107], [237, 108], [237, 107], [237, 108], [237, 107], [237, 108], [237, 107], [237, 108], [237, 107], [237, 108], [237, 107], [237, 108], [237, 107], [237, 108], [237, 107], [237, 108], [237, 107], [237, 108], [237, 107], [237, 108], [237, 107], [237, 108], [237, 107], [237, 108], [237, 107], [237, 108], [238, 108], [238, 107], [237, 107], [237, 108], [237, 107], [237, 108], [237, 107], [237, 108], [237, 107], [237, 108], [237, 107], [237, 108], [237, 107], [237, 108], [237, 107], [237, 108], [236, 108], [237, 108], [237, 107], [237, 106], [237, 107], [237, 108], [237, 107], [237, 108], [237, 107], [237, 108], [237, 107], [237, 108], [237, 107], [237, 108], [237, 107], [237, 108], [237, 107], [237, 108], [237, 107], [237, 108], [237, 107], [236, 107], [235, 107], [235, 106], [234, 106], [234, 107], [234, 106], [233, 106], [232, 106], [232, 105], [231, 105], [231, 106], [231, 105], [230, 105], [229, 105], [229, 106], [229, 107], [229, 108], [228, 108], [227, 108], [227, 109], [227, 108], [227, 109], [227, 108], [227, 109], [227, 108], [227, 107], [227, 106], [227, 105], [227, 104], [227, 103], [227, 104], [227, 103], [227, 104], [227, 103], [227, 104], [227, 103], [227, 104], [227, 103], [227, 104], [227, 103], [227, 104], [227, 103], [227, 104], [227, 103], [227, 104], [227, 103], [227, 104], [227, 103], [227, 104], [227, 103], [227, 104], [227, 103], [227, 104], [227, 103], [227, 104], [227, 103], [226, 103], [226, 104], [226, 105], [226, 106], [225, 106], [224, 106], [224, 105], [224, 106], [224, 105], [224, 106], [224, 105], [224, 106], [224, 105], [224, 106], [224, 105], [224, 106], [224, 105], [224, 106], [224, 105], [224, 106], [224, 105], [224, 106], [224, 105], [224, 106], [224, 105], [224, 106], [224, 105], [224, 106], [224, 105], [224, 106], [224, 105], [224, 106], [224, 105], [224, 106], [224, 105], [224, 106], [224, 105], [224, 106], [224, 105], [224, 106], [224, 105], [224, 106], [224, 105], [224, 106], [224, 105], [224, 106], [224, 105], [224, 106], [224, 105], [224, 106], [224, 105], [224, 106], [224, 105], [224, 106], [224, 105], [224, 106], [224, 105], [224, 106], [224, 105], [224, 106], [224, 105], [224, 106], [224, 105], [224, 106], [224, 105], [224, 106], [224, 105], [224, 106], [224, 105], [224, 106], [224, 105], [224, 106], [224, 105], [224, 106], [224, 105], [224, 106], [224, 105], [224, 106], [224, 105], [224, 106], [224, 105], [224, 106], [224, 105], [224, 106], [224, 105], [224, 106], [224, 105], [224, 106], [224, 105], [224, 106], [224, 105], [224, 106], [224, 105], [224, 106], [224, 105], [224, 106], [224, 105], [223, 105], [222, 105], [222, 106], [222, 105], [222, 106], [222, 105], [222, 106], [222, 105], [222, 106], [222, 105], [222, 106], [222, 105], [222, 106], [222, 105], [222, 106], [222, 105], [222, 106], [222, 105], [222, 106], [222, 105], [222, 106], [222, 105], [222, 106], [222, 105], [222, 106], [222, 105], [222, 106], [222, 105], [222, 106], [222, 105], [222, 106], [222, 105], [222, 106], [222, 105], [222, 106], [223, 106], [222, 106], [222, 105], [222, 106], [222, 105], [222, 106], [222, 105], [222, 106], [222, 105], [222, 106], [222, 105], [222, 106], [222, 105], [222, 106], [222, 105], [222, 106], [222, 105], [222, 106], [222, 105], [222, 106], [222, 105], [222, 106], [222, 105], [222, 106], [222, 105], [222, 104], [222, 105], [222, 106], [222, 105], [222, 106], [222, 105], [222, 106], [222, 105], [222, 106], [222, 105], [222, 106], [222, 105], [222, 106], [221, 106], [220, 106], [219, 106], [219, 105], [219, 106], [219, 105], [219, 106], [219, 105], [219, 106], [219, 105], [219, 106], [219, 105], [219, 106], [219, 105], [219, 106], [219, 105], [219, 106], [219, 105], [219, 106], [219, 105], [219, 106], [219, 105], [219, 106], [219, 105], [219, 106], [219, 105], [219, 106], [219, 105], [219, 106], [219, 105], [219, 106], [219, 105], [219, 106], [219, 105], [219, 106], [219, 105], [219, 106], [219, 105], [219, 106], [219, 105], [219, 106], [219, 105], [219, 106], [219, 105], [219, 106], [219, 105], [219, 106], [219, 105], [219, 106], [219, 105], [219, 106], [219, 105], [219, 106], [219, 105], [219, 106], [219, 105], [219, 106], [219, 105], [219, 106], [219, 105], [219, 106], [219, 105], [219, 106], [219, 105], [219, 106], [219, 105], [219, 106], [219, 105], [219, 106], [219, 105], [219, 106], [219, 105], [219, 106], [219, 105], [219, 106], [219, 105], [219, 106], [219, 105], [219, 106], [219, 105], [219, 106], [219, 105], [219, 106], [219, 105], [219, 106], [219, 105], [219, 106], [219, 105], [219, 106], [219, 105], [219, 106], [219, 105], [219, 106], [219, 105], [219, 106], [219, 105], [219, 106], [219, 105], [219, 106], [219, 105], [219, 106], [219, 105], [219, 106], [219, 105], [219, 106], [219, 105], [219, 106], [219, 105], [219, 106], [219, 105], [219, 106], [219, 105], [219, 106], [219, 105], [219, 106], [219, 105], [219, 106], [219, 105], [219, 106], [219, 105], [219, 106], [219, 105], [219, 106], [219, 105], [219, 106], [219, 105], [219, 106], [219, 105], [219, 106], [219, 105], [219, 106], [219, 105], [219, 106], [219, 105], [219, 106], [219, 105], [219, 106], [219, 105], [219, 106], [219, 105], [219, 106], [219, 105], [219, 106], [219, 105], [219, 106], [219, 105], [219, 106], [219, 105], [219, 106], [219, 105], [219, 106], [219, 105], [219, 106], [219, 105], [219, 106], [219, 105], [219, 106], [219, 105], [219, 106], [219, 105], [219, 106], [219, 105], [219, 106], [219, 105], [219, 106], [219, 105], [219, 106], [219, 105], [219, 106], [219, 105], [219, 106], [218, 106], [218, 107], [218, 106], [218, 107], [218, 106], [218, 107], [218, 106], [218, 107], [218, 106], [218, 107], [218, 106], [218, 107], [218, 106], [218, 107], [218, 106], [218, 107], [218, 106], [218, 107], [218, 106], [218, 107], [218, 106], [218, 107], [217, 107], [217, 106], [217, 105], [216, 105], [216, 106], [216, 107], [216, 106], [216, 107], [216, 106], [216, 107], [216, 106], [216, 107], [216, 106], [216, 107], [216, 106], [216, 107], [216, 106], [216, 107], [216, 106], [216, 107], [216, 106], [216, 107], [216, 108], [216, 109], [216, 110], [216, 111], [216, 112], [216, 111], [216, 112], [216, 111], [216, 112], [216, 111], [216, 112], [216, 111], [216, 112], [216, 111], [216, 112], [216, 111], [216, 112], [216, 111], [216, 112], [216, 111], [216, 112], [216, 111], [216, 112], [216, 111], [216, 112], [216, 111], [216, 112], [216, 111], [216, 112], [216, 111], [216, 112], [216, 111], [216, 112], [216, 111], [216, 112], [216, 111], [216, 112], [216, 111], [216, 112], [216, 111], [216, 112], [216, 111], [216, 112], [216, 111], [216, 112], [216, 111], [216, 112], [216, 111], [216, 112], [216, 111], [216, 112], [216, 111], [216, 112], [216, 111], [216, 112], [216, 111], [216, 112], [216, 111], [216, 112], [216, 111], [216, 112], [216, 111], [216, 112], [216, 111], [216, 112], [216, 111], [216, 112], [216, 111], [216, 112], [216, 111], [216, 112], [216, 111], [216, 112], [216, 111], [216, 112], [216, 111], [216, 112], [216, 111], [216, 112], [216, 111], [216, 112], [216, 111], [216, 112], [216, 111], [216, 112], [216, 111], [216, 112], [216, 111], [216, 112], [216, 111], [216, 110], [216, 111], [216, 112], [216, 111], [216, 112], [216, 111], [216, 112], [216, 113], [216, 112], [216, 111], [216, 112], [216, 111], [216, 112], [216, 111], [216, 112], [216, 111], [216, 112], [216, 111], [216, 112], [216, 111], [216, 112], [216, 113], [216, 112], [216, 111], [216, 112], [216, 111], [216, 112], [216, 111], [216, 112], [216, 111], [216, 112], [216, 111], [216, 112], [216, 111], [216, 112], [216, 111], [216, 112], [216, 111], [216, 112], [216, 111], [216, 112], [216, 111], [216, 112], [216, 111], [216, 112], [216, 111], [216, 112], [216, 111], [216, 112], [216, 111], [216, 112], [216, 111], [216, 112], [216, 111], [216, 112], [216, 111], [216, 112], [216, 111], [216, 112], [216, 111], [216, 112], [216, 111], [216, 112], [216, 111], [216, 112], [216, 111], [216, 112], [216, 111], [216, 112], [216, 111], [216, 112], [216, 111], [216, 112], [216, 111], [216, 112], [216, 111], [216, 112], [216, 111], [216, 112], [215, 112], [214, 112], [213, 112], [213, 113], [213, 114], [213, 113], [213, 114], [213, 113], [213, 114], [213, 113], [213, 114], [213, 113], [213, 114], [212, 114], [212, 115], [212, 116], [212, 117], [212, 118], [212, 117], [212, 118], [212, 117], [212, 118], [212, 117], [212, 118], [212, 117], [212, 118], [212, 117], [212, 118], [212, 117], [212, 118], [212, 117], [212, 118], [212, 117], [212, 118], [212, 117], [212, 118], [212, 117], [212, 118], [212, 117], [212, 118], [212, 117], [212, 118], [212, 117], [213, 117], [213, 118], [212, 118], [212, 117], [212, 118], [212, 117], [212, 118], [212, 117], [212, 118], [212, 117], [211, 117], [211, 116], [210, 116], [210, 115], [210, 116], [210, 115], [210, 116], [210, 115], [210, 116], [210, 115], [210, 116], [210, 117], [210, 116], [210, 115], [210, 116], [210, 115], [210, 116], [210, 115], [210, 116], [210, 115], [210, 116], [210, 115], [210, 116], [210, 115], [210, 116], [210, 115], [210, 116], [210, 115], [210, 116], [210, 115], [210, 116], [210, 115], [210, 116], [210, 115], [210, 116], [210, 115], [210, 116], [210, 115], [210, 116], [210, 115], [210, 116], [210, 115], [210, 116], [210, 115], [210, 116], [210, 115], [210, 116], [210, 115], [210, 116], [210, 115], [210, 116], [210, 115], [210, 116], [210, 115], [210, 116], [210, 115], [210, 116], [210, 115], [210, 116], [210, 117], [210, 116], [210, 115], [210, 116], [210, 115], [210, 116], [210, 115], [210, 116], [210, 115], [210, 116], [210, 115], [210, 116], [210, 115], [210, 116], [210, 115], [210, 116], [210, 117], [210, 116], [210, 115], [210, 116], [210, 115], [210, 116], [210, 115], [210, 116], [210, 115], [210, 116], [210, 115], [210, 114], [210, 115], [210, 116], [210, 115], [210, 116], [210, 115], [210, 116], [210, 115], [210, 116], [210, 115], [210, 116], [210, 115], [209, 115], [209, 114], [209, 115], [209, 114], [209, 115], [209, 114], [209, 115], [209, 114], [209, 115], [209, 114], [209, 115], [209, 114], [209, 115], [209, 114], [209, 115], [209, 114], [209, 115], [209, 114], [209, 115], [209, 114], [209, 115], [209, 114], [209, 115], [209, 114], [209, 115], [209, 114], [209, 115], [209, 114], [209, 115], [209, 114], [209, 115], [209, 114], [209, 115], [209, 114], [209, 115], [209, 114], [209, 115], [209, 114], [209, 115], [209, 114], [209, 115], [209, 114], [209, 115], [209, 114], [209, 115], [209, 114], [209, 115], [209, 114], [209, 115], [209, 114], [209, 115], [209, 114], [209, 115], [209, 114], [209, 115], [209, 114], [209, 115], [209, 114], [209, 115], [209, 114], [209, 115], [209, 114], [209, 115], [209, 114], [209, 115], [209, 114], [209, 115], [209, 114], [209, 115], [209, 114], [209, 115], [209, 114], [209, 115], [209, 114], [209, 115], [209, 114], [209, 115], [209, 114], [209, 115], [209, 114], [209, 115], [209, 114], [209, 115], [209, 114], [209, 115], [209, 114], [209, 115], [209, 114], [209, 115], [209, 114], [209, 115], [209, 114], [209, 115], [209, 114], [209, 115], [209, 114], [209, 115], [209, 114], [209, 115], [209, 114], [209, 115], [209, 114], [209, 115], [209, 114], [209, 115], [209, 114], [209, 115], [209, 114], [209, 115], [209, 114], [209, 115], [209, 114], [209, 115], [209, 114], [209, 115], [209, 114], [209, 115], [209, 114], [209, 115], [209, 114], [209, 115], [209, 114], [209, 115], [209, 114], [209, 115], [209, 114], [209, 115], [209, 114], [209, 115], [209, 114], [209, 115], [209, 114], [209, 115], [209, 114], [209, 115], [209, 114], [209, 115], [209, 114], [209, 115], [209, 114], [209, 115], [209, 114], [209, 115], [209, 114], [209, 115], [209, 116], [208, 116], [208, 115], [208, 114], [207, 114], [206, 114], [206, 113], [206, 114], [206, 113], [206, 114], [206, 113], [206, 114], [206, 113], [206, 114], [206, 113], [206, 114], [206, 113], [206, 114], [206, 113], [206, 114], [206, 113], [206, 114], [206, 113], [206, 114], [206, 113], [206, 114], [206, 113], [206, 114], [206, 113], [206, 114], [206, 113], [206, 114], [206, 113], [206, 114], [206, 113], [206, 114], [206, 113], [206, 114], [206, 113], [206, 114], [206, 113], [206, 114], [206, 113], [206, 114], [206, 113], [206, 114], [206, 113], [206, 114], [206, 113], [206, 114], [206, 113], [206, 114], [206, 115], [206, 114], [205, 114], [204, 114], [203, 114], [203, 113], [202, 113], [202, 114], [201, 114], [201, 115], [201, 114], [201, 115], [201, 114], [201, 113], [201, 114], [201, 115], [201, 114], [201, 115], [201, 114], [201, 115], [201, 114], [201, 115], [201, 114], [201, 115], [201, 114], [201, 115], [201, 114], [201, 115], [201, 114], [201, 115], [201, 114], [201, 115], [201, 114], [201, 115], [201, 116], [201, 117], [201, 116], [201, 117], [201, 116], [201, 117], [201, 116], [201, 117], [201, 116], [201, 117], [201, 116], [201, 117], [201, 116], [201, 117], [201, 116], [201, 117], [201, 116], [201, 117], [201, 116], [200, 116], [200, 117], [199, 117], [199, 116], [199, 117], [199, 116], [199, 117], [199, 116], [199, 117], [199, 116], [199, 117], [199, 116], [199, 117], [199, 116], [199, 117], [199, 116], [199, 117], [199, 116], [199, 117], [199, 116], [199, 117], [199, 116], [199, 117], [200, 117], [199, 117], [199, 116], [199, 117], [199, 116], [199, 117], [199, 116], [199, 117], [199, 116], [199, 117], [199, 116], [199, 117], [199, 116], [199, 117], [199, 116], [199, 115], [199, 116], [199, 117], [199, 116], [199, 117], [199, 116], [199, 117], [199, 116], [199, 117], [199, 116], [199, 117], [199, 116], [199, 117], [199, 116], [199, 117], [199, 116], [199, 117], [199, 116], [199, 117], [199, 116], [199, 117], [199, 116], [199, 117], [199, 116], [199, 117], [199, 116], [199, 117], [199, 116], [199, 117], [199, 116], [199, 117], [199, 116], [199, 117], [199, 116], [199, 117], [199, 116], [199, 117], [199, 116], [199, 117], [199, 116], [199, 117], [199, 116], [199, 117], [199, 116], [199, 117], [199, 116], [199, 117], [199, 116], [199, 117], [199, 116], [199, 117], [199, 116], [199, 117], [199, 116], [199, 117], [199, 116], [199, 117], [199, 116], [199, 117], [199, 116], [199, 117], [199, 116], [199, 115], [199, 116], [199, 117], [199, 116], [199, 117], [199, 116], [199, 117], [199, 116], [198, 116], [198, 117], [198, 116], [198, 117], [198, 116], [198, 117], [198, 116], [198, 117], [198, 116], [198, 117], [198, 116], [198, 117], [198, 116], [198, 117], [198, 116], [198, 117], [198, 116], [198, 117], [198, 116], [198, 117], [198, 116], [198, 117], [198, 116], [198, 117], [198, 116], [198, 117], [198, 116], [198, 117], [198, 116], [198, 117], [197, 117], [196, 117], [196, 118], [196, 119], [196, 118], [196, 119], [196, 118], [195, 118], [194, 118], [194, 117], [194, 118], [194, 117], [194, 118], [194, 117], [194, 118], [194, 117], [194, 118], [194, 117], [194, 118], [194, 117], [194, 118], [194, 117], [194, 118], [194, 117], [193, 117], [193, 118], [193, 119], [193, 120], [193, 121], [193, 120], [193, 121], [193, 120], [193, 121], [193, 120], [193, 121], [193, 120], [193, 121], [193, 120], [193, 121], [193, 120], [193, 121], [193, 120], [193, 121], [193, 120], [193, 121], [193, 120], [193, 121], [193, 120], [193, 121], [193, 120], [193, 121], [193, 120], [193, 121], [193, 120], [193, 121], [193, 120], [193, 121], [193, 120], [193, 121], [193, 120], [193, 121], [193, 122], [193, 121], [193, 122], [193, 121], [193, 120], [193, 121], [193, 120], [193, 121], [193, 120], [193, 121], [193, 120], [193, 121], [193, 120], [193, 121], [193, 120], [193, 121], [193, 120], [193, 121], [193, 120], [193, 121], [193, 120], [193, 121], [193, 120], [193, 121], [193, 120], [193, 121], [193, 120], [193, 121], [193, 120], [193, 121], [193, 120], [193, 121], [193, 120], [193, 121], [193, 120], [193, 121], [193, 120], [193, 121], [193, 120], [193, 121], [193, 120], [193, 121], [193, 120], [193, 121], [193, 120], [193, 121], [193, 120], [193, 121], [193, 120], [193, 121], [193, 120], [193, 121], [193, 120], [193, 121], [193, 120], [193, 121], [193, 120], [193, 121], [193, 120], [193, 121], [193, 120], [193, 119], [193, 120], [193, 121], [193, 120], [193, 121], [193, 120], [193, 121], [193, 120], [193, 121], [193, 120], [193, 121], [193, 120], [193, 121], [193, 120], [193, 121], [193, 120], [193, 121], [193, 120], [193, 121], [193, 120], [193, 121], [193, 120], [193, 121], [193, 120], [193, 121], [193, 120], [193, 121], [193, 120], [193, 121], [193, 120], [193, 121], [193, 120], [193, 121], [193, 120], [193, 121], [193, 120], [193, 121], [193, 120], [193, 121], [193, 120], [193, 121], [193, 120], [193, 121], [193, 120], [193, 121], [193, 120], [193, 121], [192, 121], [192, 120], [192, 119], [192, 120], [192, 119], [192, 120], [192, 119], [192, 120], [192, 119], [192, 118], [192, 119], [192, 120], [192, 119], [192, 120], [192, 119], [192, 120], [192, 119], [192, 120], [192, 119], [192, 120], [192, 119], [192, 120], [192, 119], [192, 120], [192, 119], [192, 120], [192, 119], [192, 120], [192, 119], [192, 120], [192, 119], [192, 120], [192, 119], [192, 120], [192, 119], [192, 120], [192, 119], [192, 120], [192, 119], [192, 120], [192, 119], [192, 120], [192, 119], [192, 120], [192, 119], [192, 120], [192, 119], [192, 120], [192, 119], [192, 120], [192, 119], [192, 120], [192, 119], [192, 120], [192, 119], [192, 120], [192, 119], [192, 120], [192, 119], [192, 120], [192, 119], [192, 120], [192, 119], [192, 120], [192, 119], [192, 120], [192, 119], [192, 120], [192, 119], [192, 120], [193, 120], [193, 121], [193, 120], [193, 121], [193, 120], [193, 121], [193, 120], [193, 121], [193, 120], [193, 121], [193, 120], [193, 121], [193, 120], [193, 121], [193, 120], [193, 121], [193, 120], [193, 121], [193, 120], [193, 121], [193, 120], [193, 121], [193, 120], [193, 121], [193, 120], [193, 121], [193, 120], [193, 121], [193, 120], [193, 121], [193, 120], [193, 121], [193, 120], [193, 121], [193, 120], [193, 121], [193, 120], [193, 121], [193, 120], [193, 121], [193, 120], [193, 121], [193, 120], [193, 121], [193, 120], [193, 121], [194, 121], [194, 120], [193, 120], [193, 121], [193, 120], [193, 121], [193, 120], [193, 121], [193, 120], [193, 121], [193, 120], [193, 121], [193, 120], [193, 121], [193, 120], [193, 121], [193, 120], [193, 121], [193, 120], [193, 121], [193, 120], [193, 121], [193, 120], [193, 121], [193, 120], [193, 121], [193, 120], [193, 119], [193, 120], [193, 121], [193, 120], [193, 121], [193, 120], [193, 121], [193, 120], [193, 121], [193, 120], [193, 121], [193, 120], [193, 121], [193, 120], [193, 121], [193, 120], [193, 121], [193, 120], [193, 121], [193, 120], [193, 121], [193, 120], [193, 121], [193, 120], [193, 121], [193, 120], [193, 121], [193, 122], [193, 121], [193, 120], [193, 121], [193, 120], [193, 121], [193, 120], [193, 121], [193, 120], [193, 121], [193, 120], [193, 121], [193, 120], [193, 121], [193, 122], [193, 121], [193, 120], [193, 121], [193, 120], [193, 121], [193, 120], [193, 121], [193, 120], [193, 121], [193, 120], [193, 121], [193, 120], [193, 121], [193, 120], [193, 121], [193, 120], [193, 121], [193, 120], [193, 121], [193, 120], [193, 121], [193, 120], [193, 121], [193, 120], [193, 121], [193, 120], [193, 121], [193, 120], [193, 121], [193, 120], [193, 121], [193, 120], [193, 121], [193, 120], [193, 121], [193, 120], [193, 121], [193, 120], [193, 121], [193, 120], [193, 121], [193, 120], [193, 121], [193, 120], [193, 121], [193, 120], [193, 121], [193, 120], [193, 121], [193, 120], [193, 121], [193, 120], [193, 121], [193, 120], [193, 121], [193, 120], [193, 121], [194, 121], [194, 120], [193, 120], [193, 121], [193, 120], [193, 121], [193, 120], [193, 121], [193, 120], [193, 121], [193, 120], [193, 121], [193, 122], [193, 121], [193, 120], [193, 121], [193, 120], [193, 121], [193, 120], [193, 121], [193, 120], [193, 121], [194, 121], [194, 120], [193, 120], [193, 121], [193, 120], [193, 121], [193, 120], [193, 121], [193, 120], [193, 121], [193, 120], [193, 121], [193, 120], [193, 121], [193, 120], [193, 121], [193, 120], [193, 121], [193, 120], [193, 121], [193, 120], [193, 121], [193, 120], [193, 121], [193, 120], [193, 121], [193, 120], [193, 121], [193, 120], [193, 121], [193, 120], [193, 121], [193, 120], [193, 121], [193, 120], [193, 121], [193, 120], [193, 121], [193, 120], [193, 121], [193, 120], [193, 121], [193, 120], [193, 121], [193, 120], [193, 121], [193, 120], [193, 121], [193, 120], [193, 121], [193, 120], [193, 121], [193, 120], [193, 121], [193, 120], [193, 121], [193, 120], [193, 121], [193, 120], [193, 121], [193, 120], [193, 121], [193, 120], [193, 121], [193, 120], [193, 121], [193, 120], [193, 121], [193, 120], [193, 121], [193, 120], [193, 121], [193, 120], [193, 121], [193, 120], [193, 121], [193, 120], [193, 121], [193, 120], [193, 121], [193, 120], [193, 121], [193, 120], [194, 120], [193, 120], [193, 121], [193, 120], [193, 121], [193, 120], [193, 121], [193, 120], [193, 121], [193, 120], [193, 121], [194, 121], [194, 120], [193, 120], [193, 121], [193, 120], [193, 121], [193, 120], [193, 121], [193, 120], [193, 121], [193, 120], [193, 121], [193, 120], [193, 121], [193, 120], [192, 120], [192, 119], [192, 120], [192, 119], [192, 120], [192, 119], [192, 120], [192, 119], [192, 120], [192, 119], [192, 118], [192, 119], [192, 120], [192, 119], [192, 120], [192, 119], [192, 120], [192, 119], [191, 119], [191, 118], [190, 118], [189, 118], [188, 118], [188, 119], [188, 120], [188, 119], [188, 120], [188, 119], [188, 120], [188, 119], [188, 120], [188, 119], [188, 120], [188, 119], [188, 120], [188, 119], [188, 120], [188, 119], [188, 120], [188, 119], [188, 120], [188, 119], [188, 120], [188, 119], [188, 120], [188, 119], [188, 120], [188, 119], [188, 120], [188, 119], [188, 120], [188, 119], [188, 120], [188, 119], [188, 120], [188, 119], [188, 120], [188, 119], [188, 120], [188, 119], [188, 120], [188, 119], [188, 120], [188, 119], [188, 120], [188, 119], [188, 120], [188, 119], [188, 120], [188, 119], [188, 120], [188, 119], [188, 120], [188, 119], [188, 120], [188, 119], [188, 120], [188, 119], [189, 119], [189, 118], [188, 118], [188, 119], [188, 120], [188, 119], [188, 120], [188, 119], [188, 120], [188, 119], [188, 120], [188, 119], [188, 120], [188, 119], [188, 120], [188, 119], [188, 120], [188, 119], [188, 120], [188, 119], [188, 120], [188, 119], [188, 120], [188, 119], [188, 120], [188, 119], [188, 120], [188, 119], [188, 120], [188, 119], [188, 120], [188, 119], [188, 120], [188, 119], [188, 120], [188, 119], [188, 120], [188, 119], [188, 120], [188, 119], [188, 120], [188, 119], [188, 120], [188, 119], [188, 120], [188, 119], [188, 120], [188, 119], [188, 120], [188, 119], [188, 120], [188, 119], [188, 120], [188, 119], [188, 120], [188, 119], [188, 120], [188, 119], [188, 120], [188, 119], [188, 120], [188, 119], [188, 120], [188, 119], [188, 120], [188, 119], [188, 120], [188, 119], [188, 120], [188, 119], [188, 120], [188, 119], [188, 120], [188, 119], [188, 120], [188, 119], [188, 120], [188, 119], [188, 120], [188, 119], [188, 120], [188, 119], [188, 120], [188, 119], [188, 120], [188, 119], [188, 120], [188, 119], [188, 120], [188, 119], [188, 120], [188, 119], [188, 120], [188, 119], [188, 120], [188, 119], [188, 120], [188, 119], [188, 120], [188, 119], [188, 120], [188, 119], [188, 120], [188, 119], [188, 120], [188, 119], [188, 120], [188, 119], [188, 120], [188, 119], [188, 120], [188, 119], [188, 120], [188, 119], [188, 120], [188, 119], [188, 120], [188, 119], [188, 120], [188, 119], [187, 119], [187, 120], [186, 120], [186, 119], [186, 120], [186, 119], [186, 120], [186, 119], [186, 120], [186, 119], [186, 120], [186, 119], [186, 120], [186, 119], [187, 119], [187, 120], [186, 120], [186, 119], [186, 120], [187, 120], [186, 120], [186, 119], [186, 120], [186, 119], [186, 120], [186, 119], [186, 120], [186, 119], [186, 120], [186, 119], [186, 120], [186, 119], [186, 120], [186, 119], [186, 120], [186, 119], [186, 120], [186, 119], [186, 120], [186, 119], [186, 120], [186, 119], [186, 120], [186, 119], [186, 120], [186, 119], [186, 120], [186, 119], [186, 120], [186, 119], [186, 120], [186, 119], [186, 120], [186, 119], [186, 120], [186, 119], [186, 120], [186, 119], [186, 120], [186, 119], [186, 120], [186, 119], [186, 120], [186, 119], [186, 120], [186, 119], [186, 120], [186, 119], [186, 120], [186, 119], [186, 120], [186, 119], [186, 120], [186, 119], [186, 120], [186, 119], [186, 120], [186, 119], [186, 120], [186, 119], [186, 120], [186, 119], [186, 120], [186, 119], [186, 120], [186, 119], [186, 120], [186, 119], [186, 120], [186, 119], [186, 120], [186, 119], [186, 120], [186, 119], [186, 120], [186, 119], [186, 120], [186, 119], [186, 120], [186, 119], [186, 120], [186, 119], [186, 120], [186, 119], [186, 120], [186, 119], [186, 120], [186, 119], [186, 120], [186, 119], [186, 120], [186, 119], [187, 119], [187, 120], [186, 120], [186, 119], [186, 120], [186, 119], [186, 120], [186, 119], [186, 120], [186, 119], [186, 120], [186, 119], [186, 120], [186, 119], [186, 120], [186, 119], [185, 119], [185, 118], [185, 119], [185, 118], [185, 119], [185, 118], [185, 119], [186, 119], [186, 120], [186, 119], [186, 120], [186, 119], [186, 120], [186, 119], [186, 120], [186, 121], [185, 121], [185, 120], [185, 119], [185, 118], [185, 119], [185, 118], [185, 119], [185, 118], [185, 119], [185, 118], [185, 119], [185, 118], [185, 119], [185, 118], [185, 119], [185, 118], [185, 119], [185, 118], [185, 119], [185, 118], [185, 119], [185, 118], [185, 119], [185, 118], [185, 119], [185, 118], [185, 119], [185, 118], [185, 119], [185, 118], [185, 119], [185, 118], [185, 119], [185, 118], [184, 118], [184, 117], [183, 117], [183, 116], [183, 117], [183, 116], [183, 117], [183, 116], [183, 117], [183, 116], [183, 117], [183, 116], [183, 117], [183, 116], [183, 117], [183, 116], [183, 117], [183, 116], [183, 117], [183, 116], [183, 117], [183, 116], [183, 117], [183, 116], [183, 117], [183, 116], [183, 117], [183, 116], [183, 117], [183, 116], [183, 117], [183, 116], [183, 117], [183, 116], [183, 117], [183, 116], [183, 117], [183, 116], [183, 117], [183, 116], [183, 117], [183, 116], [183, 117], [183, 116], [183, 117], [183, 116], [183, 117], [183, 116], [183, 117], [183, 116], [183, 117], [183, 116], [183, 117], [183, 116], [183, 117], [183, 116], [183, 117], [183, 116], [183, 117], [183, 116], [183, 115], [183, 116], [183, 117], [183, 116], [183, 117], [183, 116], [183, 117], [183, 116], [182, 116], [182, 117], [182, 116], [182, 117], [182, 116], [182, 117], [182, 116], [182, 117], [182, 116], [182, 117], [182, 116], [182, 117], [182, 116], [182, 117], [182, 116], [183, 116], [183, 117], [183, 116], [183, 117], [183, 116], [183, 117], [183, 116], [183, 117], [183, 116], [183, 117], [184, 117], [183, 117], [183, 116], [183, 117], [183, 116], [183, 117], [183, 116], [183, 117], [183, 116], [183, 117], [183, 116], [183, 117], [183, 116], [183, 117], [183, 116], [183, 117], [183, 116], [183, 117], [183, 116], [183, 117], [183, 116], [183, 117], [183, 116], [183, 117], [183, 116], [183, 117], [183, 116], [183, 117], [183, 116], [183, 117], [183, 116], [183, 117], [182, 117], [182, 116], [182, 117], [182, 116], [182, 117], [182, 116], [182, 117], [182, 116], [182, 117], [182, 116], [182, 117], [182, 116], [182, 117], [182, 116], [182, 117], [182, 116], [182, 117], [182, 116], [182, 117], [182, 116], [182, 117], [182, 116], [182, 117], [182, 116], [182, 117], [182, 116], [182, 117], [182, 116], [182, 117], [182, 116], [182, 117], [182, 116], [182, 117], [182, 116], [182, 117], [182, 116], [182, 117], [182, 116], [182, 117], [182, 116], [182, 117], [182, 116], [182, 117], [182, 116], [182, 117], [182, 116], [182, 117], [182, 116], [182, 117], [182, 116], [182, 117], [182, 116], [182, 117], [182, 116], [182, 117], [182, 116], [182, 117], [182, 116], [182, 117], [182, 116], [182, 117], [182, 116], [182, 117], [182, 116], [182, 117], [182, 116], [182, 117], [182, 116], [182, 117], [182, 116], [182, 117], [182, 116], [182, 117], [182, 116], [182, 117], [182, 116], [182, 117], [182, 116], [182, 117], [182, 116], [182, 117], [182, 116], [182, 117], [182, 116], [182, 117], [182, 116], [182, 117], [182, 116], [182, 117], [182, 116], [182, 117], [182, 116], [182, 117], [182, 116], [182, 117], [182, 116], [182, 117], [182, 116], [182, 117], [182, 116], [182, 117], [182, 116], [182, 117], [182, 116], [182, 117], [182, 116], [182, 117], [182, 116], [182, 117], [182, 116], [182, 117], [182, 116], [182, 117], [182, 116], [182, 117], [183, 117], [183, 116], [183, 117], [183, 116], [183, 117], [183, 116], [183, 117], [183, 116], [183, 117], [183, 116], [183, 117], [183, 116], [183, 117], [183, 116], [183, 117], [183, 116], [183, 117], [183, 116], [183, 117], [183, 116], [183, 117], [183, 116], [183, 115], [183, 116], [183, 117], [183, 116], [183, 117], [183, 116], [183, 117], [183, 116], [183, 117], [183, 116], [183, 117], [183, 116], [183, 117], [183, 116], [183, 117], [183, 116], [183, 117], [183, 116], [182, 116], [182, 117], [182, 116], [182, 117], [182, 116], [182, 117], [182, 116], [182, 117], [182, 116], [182, 117], [182, 116], [182, 117], [182, 116], [182, 117], [182, 116], [182, 117], [182, 116], [182, 117], [182, 116], [182, 117], [183, 117], [183, 116], [183, 117], [183, 116], [183, 117], [183, 116], [183, 117], [183, 116], [183, 117], [183, 116], [183, 117], [183, 116], [183, 117], [183, 116], [183, 117], [183, 116], [183, 117], [183, 116], [183, 117], [183, 116], [183, 117], [183, 116], [183, 117], [183, 116], [183, 117], [183, 116], [183, 117], [183, 116], [183, 117], [183, 116], [183, 117], [183, 116], [183, 117], [183, 116], [183, 117], [183, 116], [183, 117], [184, 117], [183, 117], [183, 116], [183, 117], [183, 116], [183, 117], [184, 117], [183, 117], [183, 116], [183, 117], [183, 116], [183, 117], [183, 116], [183, 117], [183, 116], [183, 117], [183, 116], [183, 117], [183, 116], [183, 117], [183, 116], [183, 117], [183, 116], [183, 117], [183, 116], [183, 117], [183, 116], [182, 116], [182, 117], [182, 116], [182, 117], [182, 116], [182, 117], [182, 116], [182, 117], [182, 116], [182, 117], [182, 116], [182, 117], [182, 116], [182, 117], [182, 116], [182, 117], [182, 116], [182, 117], [182, 116], [182, 117], [182, 116], [182, 117], [182, 116], [182, 117], [182, 116], [182, 117], [182, 116], [182, 117], [182, 116], [182, 117], [182, 116], [182, 117], [182, 116], [182, 117], [182, 116], [182, 117], [182, 116], [182, 117], [182, 116], [182, 117], [182, 116], [182, 117], [182, 116], [182, 117], [182, 116], [182, 117], [182, 116], [182, 117], [182, 116], [182, 117], [182, 116], [182, 117], [182, 116], [182, 117], [182, 116], [182, 117], [182, 116], [183, 116], [183, 117], [183, 116], [183, 117], [183, 116], [183, 117], [183, 116], [183, 117], [183, 116], [183, 117], [183, 116], [183, 117], [183, 116], [183, 117], [183, 116], [183, 117], [183, 116], [183, 117], [183, 116], [183, 117], [183, 116], [183, 117], [183, 116], [183, 117], [183, 116], [183, 117], [183, 116], [183, 117], [183, 116], [183, 117], [183, 116], [183, 117], [183, 116], [183, 117], [183, 116], [183, 117], [183, 116], [183, 117], [183, 116], [183, 117], [183, 116], [183, 117], [183, 116], [183, 117], [184, 117], [183, 117], [183, 116], [183, 117], [183, 116], [183, 117], [183, 116], [183, 117], [183, 116], [183, 117], [183, 116], [183, 117], [183, 116], [183, 117], [183, 118], [183, 117], [183, 116], [183, 117], [183, 116], [183, 117], [183, 116], [183, 117], [183, 116], [183, 117], [183, 116], [183, 117], [183, 116], [183, 117], [183, 116], [183, 117], [183, 116], [183, 115], [183, 116], [183, 117], [183, 116], [183, 117], [183, 116], [183, 117], [183, 116], [183, 117], [183, 116], [183, 117], [183, 116], [183, 117], [183, 116], [183, 117], [183, 116], [183, 117], [183, 116], [183, 115], [183, 116], [183, 117], [183, 116], [183, 117], [183, 116], [183, 117], [183, 116], [183, 117], [183, 116], [183, 117], [183, 116], [183, 117], [183, 116], [183, 117], [183, 116], [183, 117], [183, 116], [183, 117], [183, 116], [183, 117], [183, 116], [183, 117], [183, 116], [183, 117], [183, 116], [183, 117], [183, 116], [183, 117], [183, 116], [183, 117], [183, 116], [183, 117], [183, 116], [183, 117], [183, 116], [183, 117], [183, 116], [183, 117], [183, 116], [183, 117], [183, 116], [183, 117], [183, 116], [183, 117], [183, 116], [183, 117], [183, 116], [183, 117], [183, 116], [183, 117], [183, 116], [183, 117], [183, 116], [183, 117], [183, 116], [183, 117], [183, 116], [183, 117], [183, 116], [183, 117], [183, 116], [183, 117], [183, 116], [183, 117], [183, 116], [183, 117], [183, 116], [183, 117], [183, 116], [183, 117], [184, 117], [183, 117], [183, 116], [183, 117], [183, 116], [183, 117], [183, 116], [183, 117], [183, 116], [183, 117], [183, 116], [183, 117], [183, 116], [183, 117], [184, 117], [183, 117], [183, 116], [183, 117], [183, 116], [183, 117], [183, 116], [183, 117], [183, 116], [183, 117], [183, 116], [183, 117], [183, 116], [183, 117], [183, 116], [183, 117], [183, 116], [183, 117], [183, 116], [183, 117], [183, 116], [183, 117], [183, 116], [183, 117], [183, 116], [183, 117], [183, 116], [183, 117], [183, 116], [183, 117], [183, 116], [183, 117], [183, 116], [183, 117], [183, 116], [183, 117], [183, 116], [183, 117], [183, 116], [183, 117], [183, 116], [183, 117], [183, 116], [183, 117], [183, 116], [183, 117], [183, 116], [183, 117], [183, 116], [183, 117], [183, 116], [183, 117], [183, 116], [183, 117], [183, 116], [183, 117], [183, 116], [183, 117], [183, 116], [183, 117], [183, 116], [183, 117], [183, 116], [183, 117], [183, 116], [183, 117], [183, 116], [183, 117], [183, 116], [183, 117], [183, 116], [183, 117], [183, 116], [183, 117], [183, 116], [183, 117], [183, 116], [183, 117], [183, 116], [183, 117], [183, 116], [183, 117], [182, 117], [182, 116], [182, 117], [182, 116], [182, 117], [182, 116], [182, 117], [182, 116], [182, 117], [182, 116], [182, 117], [182, 116], [182, 117], [182, 116], [182, 117], [182, 116], [182, 117], [182, 116], [182, 117], [182, 116], [182, 117], [182, 116], [183, 116], [183, 117], [183, 116], [183, 117], [183, 116], [183, 117], [183, 116], [183, 117], [183, 116], [183, 117], [183, 116], [183, 117], [182, 117], [182, 116], [182, 117], [182, 116], [182, 117], [182, 116], [182, 117], [182, 116], [182, 117], [182, 116], [182, 117], [182, 116], [182, 117], [182, 116], [182, 117], [182, 116], [182, 117], [182, 116], [182, 117], [182, 116], [182, 117], [182, 116], [182, 117], [182, 116], [182, 117], [182, 116], [182, 115], [182, 116], [182, 117], [182, 116], [182, 117], [182, 116], [182, 117], [182, 116], [182, 117], [182, 116], [182, 117], [182, 116], [182, 117], [182, 116], [182, 117], [182, 116], [182, 117], [182, 116], [182, 115], [182, 116], [182, 115], [182, 116], [182, 117], [182, 116], [182, 117], [182, 116], [182, 117], [182, 116], [182, 117], [182, 116], [182, 117], [182, 116], [181, 116], [181, 117], [180, 117], [179, 117], [179, 116], [178, 116], [178, 115], [178, 116], [178, 115], [178, 116], [178, 115], [178, 116], [178, 115], [178, 116], [178, 115], [178, 116], [178, 115], [178, 116], [178, 115], [178, 116], [178, 115], [178, 116], [178, 115], [178, 116], [178, 115], [178, 116], [178, 115], [178, 116], [178, 115], [178, 116], [178, 115], [178, 116], [178, 115], [178, 116], [178, 115], [178, 116], [178, 115], [178, 116], [178, 115], [178, 116], [178, 115], [178, 116], [178, 115], [178, 116], [178, 115], [178, 116], [178, 115], [178, 116], [178, 115], [178, 116], [178, 115], [178, 116], [178, 115], [178, 116], [178, 115], [178, 116], [178, 115], [178, 116], [178, 115], [178, 116], [178, 115], [178, 114], [178, 115], [178, 116], [178, 117], [178, 116], [178, 115], [178, 116], [178, 115], [178, 116], [178, 115], [178, 116], [177, 116], [176, 116], [175, 116], [174, 116], [174, 115], [174, 116], [174, 115], [174, 116], [173, 116], [173, 117], [172, 117], [171, 117], [170, 117], [170, 118], [170, 119], [170, 120], [169, 120], [169, 119], [169, 118], [169, 117], [169, 116], [168, 116], [167, 116], [166, 116], [165, 116], [165, 117], [164, 117], [164, 116], [164, 115], [163, 115], [163, 116], [163, 115], [163, 116], [163, 115], [163, 116], [163, 115], [163, 116], [163, 115], [163, 116], [163, 115], [163, 116], [163, 115], [163, 116], [163, 115], [163, 116], [163, 115], [163, 116], [163, 115], [163, 116], [163, 115], [163, 116], [163, 115], [163, 116], [163, 115], [163, 114], [163, 115], [163, 116], [164, 116], [164, 115], [163, 115], [163, 116], [163, 115], [163, 116], [163, 115], [163, 116], [163, 115], [163, 116], [163, 115], [163, 116], [163, 115], [163, 116], [163, 115], [163, 116], [163, 115], [163, 116], [163, 115], [163, 116], [163, 115], [163, 116], [163, 115], [163, 116], [163, 115], [163, 116], [163, 115], [163, 116], [163, 115], [163, 116], [163, 115], [163, 116], [163, 115], [163, 114], [163, 115], [163, 116], [163, 115], [163, 116], [163, 115], [163, 116], [163, 115], [163, 116], [163, 115], [163, 116], [163, 115], [163, 116], [163, 115], [163, 116], [163, 115], [163, 116], [163, 115], [163, 116], [163, 115], [163, 116], [163, 115], [163, 116], [163, 115], [163, 116], [163, 115], [163, 116], [163, 115], [163, 116], [163, 115], [163, 116], [163, 115], [163, 116], [163, 115], [163, 116], [163, 115], [163, 116], [163, 115], [163, 116], [163, 115], [163, 116], [163, 115], [163, 116], [163, 115], [163, 116], [163, 115], [163, 116], [163, 115], [163, 116], [163, 117], [163, 116], [163, 115], [163, 116], [163, 115], [163, 116], [163, 115], [163, 116], [163, 115], [163, 116], [163, 115], [163, 116], [163, 115], [163, 116], [163, 115], [163, 116], [163, 115], [163, 116], [163, 115], [163, 116], [163, 115], [163, 116], [163, 115], [163, 116], [163, 115], [163, 116], [163, 115], [163, 116], [163, 115], [163, 116], [163, 115], [163, 116], [163, 115], [163, 116], [163, 115], [163, 116], [163, 115], [163, 116], [163, 115], [163, 116], [163, 115], [163, 116], [163, 115], [163, 116], [163, 115], [164, 115], [163, 115], [163, 116], [163, 115], [163, 116], [163, 115], [163, 116], [163, 115], [163, 116], [163, 115], [163, 116], [163, 115], [163, 116], [163, 115], [163, 116], [163, 115], [163, 116], [163, 115], [163, 116], [163, 115], [163, 116], [163, 115], [163, 116], [163, 115], [163, 116], [163, 115], [163, 116], [163, 115], [163, 116], [163, 115], [163, 116], [163, 117], [163, 116], [163, 115], [163, 116], [163, 115], [163, 116], [163, 115], [163, 116], [163, 115], [163, 116], [163, 115], [163, 116], [163, 115], [163, 116], [163, 115], [163, 116], [163, 115], [163, 114], [163, 115], [163, 116], [163, 115], [163, 116], [163, 115], [163, 116], [163, 115], [163, 116], [163, 115], [163, 116], [163, 115], [163, 116], [163, 115], [163, 116], [163, 115], [163, 116], [163, 115], [163, 116], [163, 115], [163, 116], [163, 115], [163, 116], [163, 115], [163, 116], [163, 115], [163, 116], [163, 115], [163, 116], [163, 115], [163, 116], [163, 115], [163, 116], [163, 115], [163, 116], [163, 115], [163, 116], [163, 115], [163, 116], [163, 115], [163, 116], [163, 115], [164, 115], [163, 115], [163, 116], [163, 115], [163, 116], [163, 115], [163, 114], [163, 115], [163, 116], [163, 115], [163, 116], [163, 115], [163, 116], [163, 115], [163, 116], [163, 115], [163, 116], [163, 115], [163, 116], [163, 115], [163, 116], [163, 115], [163, 116], [163, 115], [163, 116], [163, 115], [163, 116], [163, 115], [163, 116], [163, 115], [163, 116], [163, 115], [163, 116], [163, 115], [163, 116], [163, 115], [163, 116], [163, 115], [163, 116], [163, 115], [163, 114], [163, 115], [163, 116], [163, 115], [164, 115], [164, 116], [164, 115], [163, 115], [163, 116], [163, 115], [163, 116], [163, 115], [163, 116], [163, 115], [163, 116], [163, 115], [164, 115], [163, 115], [163, 116], [163, 115], [163, 116], [163, 115], [163, 116], [163, 115], [163, 116], [163, 115], [163, 116], [163, 115], [163, 116], [163, 115], [163, 116], [163, 115], [163, 116], [163, 115], [163, 116], [163, 115], [163, 116], [163, 115], [164, 115], [163, 115], [163, 116], [163, 115], [163, 116], [163, 117], [163, 116], [163, 115], [163, 116], [163, 115], [163, 116], [163, 115], [163, 116], [163, 115], [163, 116], [163, 115], [163, 116], [163, 115], [163, 116], [163, 115], [163, 116], [163, 115], [163, 116], [163, 115], [163, 116], [163, 115], [163, 116], [163, 115], [163, 116], [163, 115], [163, 116], [163, 115], [163, 116], [163, 115], [163, 116], [163, 115], [164, 115], [163, 115], [163, 116], [163, 115], [163, 116], [163, 115], [163, 116], [163, 115], [163, 116], [163, 115], [162, 115], [162, 116], [161, 116], [160, 116], [159, 116], [158, 116], [157, 116], [156, 116], [156, 115], [155, 115], [155, 116], [154, 116], [155, 116], [154, 116], [153, 116], [152, 116], [151, 116], [150, 116], [150, 115], [150, 116], [150, 115], [150, 116], [150, 115], [150, 116], [150, 115], [150, 116], [150, 115], [150, 116], [151, 116], [150, 116], [150, 115], [150, 116], [150, 115], [150, 116], [150, 115], [150, 116], [150, 115], [150, 116], [150, 115], [150, 116], [150, 115], [150, 116], [150, 115], [150, 116], [150, 115], [150, 116], [150, 115], [150, 116], [150, 115], [150, 116], [150, 115], [150, 116], [150, 115], [150, 116], [150, 115], [150, 116], [150, 115], [150, 116], [150, 115], [151, 115], [151, 116], [150, 116], [150, 115], [150, 116], [150, 115], [150, 116], [150, 115], [150, 114], [150, 115], [150, 116], [150, 115], [150, 116], [150, 115], [150, 116], [150, 115], [150, 116], [150, 115], [150, 116], [150, 115], [150, 116], [150, 115], [150, 116], [150, 115], [150, 116], [150, 115], [150, 116], [150, 115], [150, 116], [150, 115], [150, 116], [150, 115], [150, 116], [150, 115], [150, 116], [150, 115], [150, 116], [150, 115], [150, 116], [150, 115], [150, 116], [150, 115], [150, 116], [150, 115], [150, 116], [150, 115], [150, 116], [150, 117], [150, 116], [150, 115], [150, 116], [150, 115], [150, 116], [150, 115], [150, 116], [150, 115], [150, 116], [150, 115], [150, 116], [150, 115], [150, 116], [150, 115], [150, 116], [150, 115], [150, 116], [150, 115], [150, 114], [150, 115], [150, 116], [150, 115], [150, 116], [151, 116], [150, 116], [150, 115], [150, 116], [150, 115], [150, 116], [150, 115], [150, 116], [150, 115], [150, 116], [150, 115], [150, 116], [150, 115], [150, 116], [150, 115], [150, 116], [150, 115], [150, 116], [150, 115], [150, 116], [150, 115], [150, 116], [150, 115], [150, 116], [150, 115], [149, 115], [148, 115], [147, 115], [146, 115], [145, 115], [145, 116], [145, 115], [145, 116], [145, 115], [145, 116], [145, 115], [145, 116], [145, 115], [145, 116], [145, 115], [145, 116], [145, 115], [145, 116], [145, 115], [145, 116], [145, 115], [145, 116], [145, 115], [146, 115], [145, 115], [145, 116], [145, 115], [145, 116], [145, 115], [145, 116], [145, 115], [145, 116], [145, 115], [145, 116], [145, 115], [145, 116], [145, 115], [145, 116], [145, 115], [145, 116], [145, 115], [145, 116], [145, 115], [145, 116], [145, 115], [145, 116], [145, 115], [145, 114], [145, 115], [145, 116], [145, 115], [145, 116], [145, 115], [145, 116], [145, 115], [145, 116], [145, 115], [145, 116], [145, 115], [145, 116], [145, 115], [145, 116], [145, 115], [145, 116], [145, 115], [145, 116], [145, 115], [145, 116], [145, 115], [145, 116], [145, 115], [145, 116], [145, 115], [145, 116], [145, 115], [145, 116], [145, 115], [145, 116], [145, 115], [145, 116], [145, 115], [145, 116], [145, 115], [145, 116], [145, 115], [145, 116], [145, 115], [145, 116], [145, 115], [145, 116], [145, 115], [145, 116], [146, 116], [146, 115], [145, 115], [145, 116], [145, 115], [145, 116], [145, 117], [145, 116], [145, 115], [145, 116], [145, 115], [145, 116], [145, 115], [145, 116], [145, 115], [145, 116], [145, 115], [145, 116], [145, 115], [145, 116], [145, 115], [146, 115], [145, 115], [145, 116], [145, 115], [145, 116], [145, 115], [145, 116], [145, 115], [145, 116], [145, 115], [145, 116], [145, 115], [145, 116], [146, 116], [146, 115], [145, 115], [145, 116], [145, 115], [145, 116], [145, 115], [145, 116], [145, 115], [145, 116], [145, 115], [145, 116], [145, 115], [145, 116], [145, 115], [145, 116], [145, 115], [145, 116], [145, 115], [145, 116], [145, 115], [145, 116], [145, 115], [145, 116], [145, 115], [145, 116], [145, 115], [145, 116], [145, 115], [145, 116], [145, 115], [145, 116], [145, 115], [145, 116], [145, 115], [145, 116], [145, 115], [145, 116], [145, 115], [145, 116], [145, 115], [145, 116], [145, 115], [145, 116], [145, 115], [145, 116], [145, 115], [145, 116], [145, 115], [145, 116], [146, 116], [146, 115], [145, 115], [145, 116], [145, 115], [145, 116], [145, 115], [145, 116], [145, 115], [145, 116], [145, 115], [145, 116], [145, 115], [145, 116], [145, 115], [145, 116], [145, 115], [145, 116], [145, 115], [145, 116], [145, 115], [145, 116], [145, 115], [145, 114], [145, 115], [145, 116], [145, 115], [145, 116], [145, 115], [145, 116], [145, 115], [145, 116], [145, 115], [145, 116], [145, 115], [145, 116], [145, 115], [145, 116], [145, 115], [145, 116], [145, 115], [145, 116], [145, 115], [145, 116], [145, 115], [145, 116], [145, 115], [145, 116], [145, 115], [145, 116], [145, 115], [145, 116], [145, 115], [144, 115], [144, 116], [143, 116], [142, 116], [142, 117], [141, 117], [141, 118], [141, 117], [141, 118], [141, 117], [141, 118], [141, 117], [140, 117], [140, 118], [140, 117], [140, 118], [140, 117], [140, 118], [140, 117], [140, 118], [140, 117], [140, 118], [140, 117], [140, 118], [140, 117], [140, 118], [140, 117], [140, 118], [140, 117], [140, 118], [140, 117], [140, 118], [140, 117], [140, 118], [140, 117], [140, 118], [140, 117], [140, 118], [140, 117], [140, 118], [140, 117], [140, 118], [140, 117], [140, 118], [140, 117], [140, 118], [140, 117], [140, 118], [140, 117], [140, 118], [140, 117], [140, 118], [140, 117], [140, 118], [140, 117], [140, 118], [140, 117], [140, 118], [140, 117], [140, 118], [140, 117], [140, 118], [140, 117], [140, 118], [140, 117], [140, 118], [140, 117], [140, 118], [140, 119], [140, 118], [140, 117], [140, 118], [140, 117], [140, 118], [140, 117], [140, 118], [140, 117], [140, 118], [140, 117], [140, 118], [140, 117], [140, 118], [140, 117], [140, 118], [140, 117], [140, 118], [140, 117], [140, 118], [140, 119], [140, 118], [140, 117], [140, 118], [140, 117], [140, 118], [139, 118], [139, 117], [138, 117], [138, 116], [138, 117], [138, 116], [138, 117], [138, 116], [138, 117], [138, 116], [138, 117], [138, 116], [138, 117], [138, 116], [138, 117], [138, 116], [138, 117], [138, 116], [138, 117], [138, 116], [138, 117], [138, 116], [138, 117], [138, 116], [138, 117], [138, 116], [138, 117], [138, 116], [138, 117], [138, 116], [138, 117], [138, 116], [138, 117], [138, 116], [138, 117], [138, 116], [138, 117], [138, 116], [138, 117], [138, 116], [138, 117], [138, 116], [138, 117], [138, 116], [138, 117], [138, 116], [138, 117], [138, 116], [138, 117], [138, 116], [138, 117], [138, 116], [138, 117], [138, 116], [138, 117], [138, 116], [138, 117], [138, 116], [138, 117], [138, 116], [138, 117], [138, 116], [138, 117], [138, 116], [138, 117], [138, 116], [138, 117], [138, 116], [138, 117], [138, 116], [138, 117], [138, 116], [138, 117], [138, 116], [138, 117], [138, 116], [138, 117], [138, 116], [138, 117], [138, 116], [138, 117], [137, 117], [137, 118], [137, 117], [137, 118], [137, 117], [137, 118], [137, 117], [137, 118], [137, 117], [137, 118], [137, 117], [136, 117], [136, 116], [136, 117], [136, 116], [136, 117], [136, 116], [136, 117], [136, 116], [136, 117], [136, 116], [136, 117], [136, 116], [136, 117], [136, 116], [136, 117], [136, 116], [136, 117], [136, 116], [136, 117], [136, 116], [136, 117], [136, 116], [136, 117], [136, 116], [136, 117], [136, 116], [136, 117], [136, 116], [137, 116], [136, 116], [136, 117], [136, 116], [136, 117], [136, 116], [136, 117], [136, 116], [136, 117], [136, 116], [136, 117], [136, 116], [136, 117], [136, 116], [136, 117], [136, 116], [136, 117], [136, 116], [136, 117], [136, 116], [136, 117], [136, 116], [136, 117], [136, 116], [136, 117], [136, 116], [136, 117], [136, 116], [135, 116], [134, 116], [133, 116], [132, 116], [132, 117], [132, 116], [132, 117], [132, 116], [132, 117], [132, 116], [132, 117], [132, 116], [132, 117], [132, 116], [132, 117], [131, 117], [131, 118], [131, 117], [131, 118], [131, 117], [131, 118], [131, 117], [131, 118], [131, 117], [131, 118], [131, 117], [131, 118], [131, 117], [131, 118], [131, 117], [131, 118], [131, 117], [131, 118], [131, 117], [131, 118], [131, 117], [131, 118], [131, 117], [131, 118], [131, 117], [131, 118], [131, 117], [131, 118], [131, 119], [131, 120], [131, 121], [130, 121], [130, 122], [130, 121], [130, 122], [130, 121], [130, 122], [130, 121], [130, 122], [130, 121], [130, 122], [130, 121], [130, 122], [130, 121], [130, 122], [130, 121], [130, 122], [130, 121], [130, 122], [130, 121], [130, 122], [130, 121], [130, 122], [130, 121], [130, 122], [130, 121], [130, 122], [130, 121], [130, 122], [130, 121], [130, 122], [130, 121], [130, 122], [130, 121], [130, 122], [130, 121], [130, 122], [130, 121], [130, 122], [130, 121], [130, 122], [130, 121], [130, 122], [130, 121], [130, 122], [130, 121], [130, 122], [130, 121], [130, 122], [130, 121], [130, 122], [130, 121], [130, 122], [130, 121], [130, 122], [130, 121], [130, 122], [130, 121], [130, 122], [130, 121], [130, 122], [130, 121], [130, 122], [130, 121], [130, 122], [130, 121], [130, 122], [130, 121], [130, 122], [130, 121], [130, 122], [130, 121], [129, 121], [129, 122], [129, 121], [129, 122], [129, 121], [129, 122], [129, 121], [129, 120], [129, 119], [129, 120], [129, 119], [129, 120], [129, 119], [129, 120], [129, 119], [129, 120], [129, 119], [129, 120], [129, 119], [129, 120], [129, 119], [129, 120], [129, 119], [129, 120], [129, 119], [129, 120], [129, 119], [129, 120], [129, 119], [129, 120], [129, 119], [129, 120], [129, 119], [129, 120], [129, 119], [129, 120], [129, 119], [129, 120], [129, 119], [129, 120], [129, 119], [129, 120], [129, 119], [129, 120], [129, 119], [129, 120], [129, 119], [129, 120], [129, 119], [129, 120], [129, 119], [129, 120], [129, 119], [129, 120], [129, 119], [129, 120], [130, 120], [130, 121], [130, 122], [130, 121], [130, 122], [130, 121], [130, 122], [130, 121], [130, 122], [130, 121], [130, 122], [130, 121], [130, 122], [130, 121], [130, 122], [130, 121], [130, 122], [130, 121], [130, 122], [130, 121], [130, 122], [130, 121], [130, 122], [130, 121], [130, 122], [130, 121], [130, 122], [130, 121], [130, 122], [130, 121], [130, 122], [130, 121], [130, 122], [130, 121], [130, 122], [130, 121], [130, 122], [130, 121], [130, 122], [130, 121], [130, 122], [130, 121], [130, 122], [130, 121], [130, 122], [130, 121], [130, 122], [130, 123], [129, 123], [129, 122], [129, 121], [129, 122], [130, 122], [130, 121], [130, 122], [130, 121], [130, 122], [130, 121], [130, 122], [130, 121], [130, 122], [130, 121], [130, 122], [130, 121], [130, 122], [130, 121], [130, 122], [130, 121], [130, 122], [130, 121], [130, 122], [130, 121], [130, 122], [130, 121], [130, 122], [130, 121], [130, 122], [130, 121], [130, 122], [130, 121], [130, 122], [130, 121], [130, 122], [130, 121], [130, 122], [130, 121], [130, 122], [130, 121], [130, 122], [130, 121], [130, 120], [130, 121], [130, 122], [130, 121], [130, 122], [130, 121], [130, 122], [130, 121], [130, 122], [130, 121], [130, 122], [130, 121], [130, 122], [130, 121], [130, 122], [130, 121], [130, 122], [130, 123], [130, 122], [130, 121], [130, 122], [130, 121], [130, 122], [130, 121], [130, 122], [130, 121], [130, 122], [130, 121], [130, 122], [130, 121], [130, 122], [130, 121], [130, 122], [130, 121], [130, 122], [130, 121], [130, 122], [130, 121], [130, 122], [130, 121], [130, 122], [130, 121], [130, 122], [130, 121], [130, 122], [130, 121], [130, 122], [130, 121], [130, 122], [130, 121], [130, 122], [130, 121], [130, 122], [130, 121], [130, 122], [130, 121], [130, 122], [130, 121], [130, 122], [130, 121], [130, 122], [130, 121], [130, 122], [130, 121], [130, 122], [130, 121], [130, 122], [130, 121], [130, 122], [130, 121], [130, 122], [130, 121], [130, 122], [130, 121], [130, 122], [130, 121], [130, 122], [130, 121], [130, 122], [130, 121], [130, 122], [130, 121], [130, 122], [130, 121], [130, 122], [130, 121], [130, 122], [130, 121], [130, 122], [130, 121], [130, 122], [130, 121], [130, 122], [130, 121], [130, 122], [130, 121], [130, 122], [130, 121], [130, 122], [130, 121], [130, 122], [130, 121], [131, 121], [130, 121], [130, 122], [130, 121], [130, 122], [130, 121], [130, 122], [130, 121], [130, 122], [130, 121], [130, 122], [130, 121], [130, 122], [130, 121], [130, 122], [130, 121], [129, 121], [130, 121], [130, 122], [130, 121], [130, 122], [130, 121], [130, 122], [130, 121], [130, 122], [130, 121], [130, 122], [130, 121], [130, 122], [130, 121], [130, 122], [130, 121], [130, 122], [130, 121], [130, 122], [130, 121], [130, 122], [130, 121], [129, 121], [129, 122], [129, 121], [129, 122], [129, 121], [129, 122], [129, 121], [129, 122], [129, 121], [129, 122], [129, 121], [129, 122], [129, 121], [129, 122], [129, 121], [129, 122], [129, 121], [129, 122], [129, 121], [129, 122], [129, 121], [129, 122], [129, 121], [129, 122], [129, 121], [129, 122], [129, 121], [129, 122], [129, 121], [129, 122], [129, 121], [129, 122], [129, 121], [129, 122], [129, 121], [129, 122], [129, 121], [129, 122], [129, 121], [129, 122], [129, 121], [129, 122], [129, 121], [129, 122], [129, 121], [129, 122], [129, 121], [129, 122], [129, 121], [129, 122], [129, 121], [129, 122], [129, 121], [129, 122], [129, 121], [129, 122], [128, 122], [128, 123], [128, 122], [128, 123], [128, 122], [128, 123], [128, 122], [128, 123], [128, 122], [128, 123], [128, 122], [128, 123], [128, 122], [128, 123], [128, 122], [128, 123], [128, 122], [128, 123], [128, 122], [128, 123], [128, 122], [128, 123], [128, 122], [128, 123], [128, 122], [127, 122], [127, 121], [127, 120], [127, 119], [127, 120], [127, 119], [127, 120], [127, 119], [127, 120], [127, 119], [127, 120], [127, 119], [127, 120], [127, 119], [127, 120], [127, 119], [127, 120], [127, 119], [127, 120], [127, 119], [128, 119], [127, 119], [127, 120], [127, 119], [127, 120], [127, 119], [127, 120], [127, 119], [127, 120], [127, 119], [127, 120], [127, 119], [127, 120], [127, 119], [127, 120], [127, 119], [127, 120], [127, 119], [127, 120], [127, 119], [127, 120], [127, 119], [127, 120], [127, 119], [127, 120], [127, 119], [127, 120], [127, 119], [127, 120], [127, 119], [127, 120], [127, 119], [127, 120], [127, 119], [127, 120], [127, 119], [127, 120], [127, 119], [127, 120], [127, 119], [127, 120], [127, 119], [127, 120], [127, 119], [127, 120], [127, 119], [127, 120], [127, 119], [127, 120], [127, 119], [127, 120], [127, 119], [127, 120], [127, 119], [126, 119], [126, 120], [125, 120], [125, 119], [125, 118], [125, 117], [124, 117], [124, 118], [123, 118], [122, 118], [121, 118], [121, 117], [121, 116], [121, 115], [121, 116], [121, 115], [121, 116], [121, 115], [121, 116], [121, 115], [121, 116], [121, 115], [121, 116], [121, 115], [121, 116], [121, 115], [121, 116], [121, 115], [121, 116], [122, 116], [121, 116], [121, 115], [121, 116], [121, 115], [121, 116], [121, 115], [121, 116], [121, 115], [121, 116], [121, 115], [121, 116], [121, 115], [121, 116], [121, 115], [121, 116], [121, 115], [121, 116], [121, 117], [121, 116], [121, 115], [121, 116], [121, 115], [121, 116], [121, 115], [121, 116], [121, 115], [121, 116], [121, 115], [121, 116], [121, 115], [121, 116], [121, 115], [121, 116], [121, 115], [121, 116], [121, 115], [121, 116], [121, 115], [121, 116], [121, 115], [121, 116], [121, 115], [121, 116], [121, 115], [121, 116], [121, 115], [121, 116], [121, 115], [121, 116], [121, 115], [121, 116], [121, 115], [121, 116], [121, 115], [121, 116], [121, 115], [121, 114], [121, 115], [121, 114], [121, 115], [121, 116], [121, 115], [121, 116], [121, 115], [121, 116], [121, 115], [121, 116], [121, 115], [121, 116], [121, 115], [121, 116], [121, 115], [121, 116], [121, 115], [121, 116], [121, 115], [121, 116], [121, 115], [121, 116], [120, 116], [119, 116], [119, 115], [119, 114], [118, 114], [118, 113], [118, 112], [118, 113], [118, 112], [118, 113], [118, 112], [118, 113], [118, 112], [118, 113], [118, 112], [118, 113], [118, 112], [118, 113], [118, 112], [118, 113], [118, 112], [118, 113], [118, 112], [118, 113], [118, 112], [118, 113], [118, 112], [119, 112], [119, 113], [119, 112], [119, 113], [119, 112], [119, 113], [119, 112], [119, 113], [119, 112], [119, 113], [119, 112], [119, 113], [119, 112], [119, 113], [118, 113], [118, 112], [118, 113], [118, 112], [118, 113], [118, 112], [118, 113], [118, 112], [118, 113], [118, 114], [118, 113], [118, 112], [118, 113], [118, 112], [118, 113], [118, 112], [118, 113], [118, 112], [118, 113], [118, 112], [118, 113], [118, 112], [118, 113], [118, 112], [118, 113], [118, 112], [118, 113], [118, 112], [118, 113], [118, 112], [118, 113], [118, 112], [118, 113], [118, 112], [117, 112], [117, 113], [117, 114], [117, 115], [117, 114], [117, 115], [117, 114], [117, 115], [117, 114], [117, 115], [117, 114], [117, 115], [117, 114], [117, 115], [117, 114], [117, 115], [117, 114], [117, 115], [117, 114], [117, 115], [117, 114], [117, 115], [117, 114], [117, 115], [117, 114], [117, 115], [117, 114], [117, 115], [118, 115], [118, 114], [118, 113], [118, 114], [118, 113], [118, 112], [117, 112], [117, 113], [117, 114], [118, 114], [118, 113], [118, 112], [118, 113], [117, 113], [117, 114], [117, 115], [117, 114], [117, 115], [117, 116], [117, 115], [117, 114], [117, 115], [117, 114], [117, 115], [117, 114], [117, 115], [117, 114], [117, 115], [117, 114], [117, 115], [117, 114], [117, 113], [117, 114], [117, 115], [117, 114], [117, 115], [117, 114], [117, 115], [117, 114], [117, 115], [117, 114], [117, 115], [117, 114], [117, 115], [117, 116], [117, 115], [117, 114], [117, 115], [117, 114], [117, 115], [117, 114], [117, 115], [117, 114], [117, 115], [117, 114], [117, 115], [117, 114], [117, 115], [117, 114], [117, 115], [117, 114], [117, 115], [117, 114], [117, 115], [117, 114], [117, 115], [117, 114], [117, 115], [117, 114], [117, 115], [117, 114], [117, 115], [117, 114], [117, 115], [117, 114], [117, 115], [117, 114], [117, 115], [117, 114], [117, 115], [117, 114], [117, 115], [117, 114], [117, 115], [117, 114], [117, 115], [117, 114], [117, 115], [117, 114], [117, 115], [117, 114], [117, 115], [117, 114], [117, 115], [117, 114], [117, 115], [117, 114], [117, 115], [117, 114], [117, 115], [117, 114], [117, 115], [117, 114], [117, 115], [117, 114], [117, 115], [117, 114], [117, 115], [117, 114], [117, 115], [117, 114], [117, 115], [117, 114], [117, 115], [117, 114], [117, 115], [117, 114], [117, 115], [117, 114], [117, 115], [117, 114], [117, 115], [117, 114], [117, 115], [117, 114], [117, 115], [117, 114], [117, 115], [117, 114], [117, 115], [117, 114], [117, 115], [117, 114], [117, 115], [117, 114], [117, 115], [117, 114], [117, 115], [117, 114], [117, 115], [117, 114], [117, 115], [117, 114], [117, 115], [117, 114], [117, 115], [117, 114], [117, 115], [117, 114], [117, 115], [117, 114], [117, 115], [117, 114], [117, 115], [117, 114], [117, 115], [117, 114], [117, 113], [117, 114], [117, 115], [117, 114], [117, 115], [117, 114], [117, 115], [117, 114], [117, 115], [117, 114], [117, 115], [117, 114], [117, 115], [117, 114], [117, 115], [117, 114], [116, 114], [116, 113], [116, 112], [115, 112], [114, 112], [113, 112], [112, 112], [111, 112], [110, 112], [110, 111], [110, 110], [110, 111], [110, 110], [110, 111], [110, 110], [110, 111], [111, 111], [111, 112], [110, 112], [110, 111], [110, 110], [110, 111], [110, 110], [110, 111], [110, 110], [110, 111], [110, 110], [110, 109], [110, 110], [110, 111], [110, 110], [110, 111], [110, 110], [110, 111], [110, 110], [110, 111], [110, 110], [110, 111], [110, 110], [110, 111], [110, 110], [110, 111], [110, 110], [110, 111], [110, 110], [110, 111], [110, 110], [110, 111], [110, 110], [110, 111], [110, 110], [110, 111], [110, 110], [110, 111], [110, 110], [110, 111], [110, 110], [111, 110], [111, 111], [111, 112], [110, 112], [110, 113], [110, 112], [110, 111], [110, 110], [110, 111], [110, 110], [110, 111], [110, 110], [110, 111], [110, 110], [110, 111], [110, 110], [110, 111], [110, 110], [110, 111], [110, 110], [110, 111], [110, 110], [110, 111], [110, 110], [110, 111], [110, 110], [110, 111], [110, 110], [110, 111], [110, 110], [110, 111], [110, 110], [111, 110], [111, 111], [111, 110], [111, 111], [111, 112], [110, 112], [110, 111], [110, 110], [110, 111], [110, 110], [110, 111], [110, 110], [110, 111], [110, 110], [110, 111], [110, 110], [110, 111], [110, 110], [110, 111], [110, 110], [110, 111], [110, 110], [109, 110], [108, 110], [108, 109], [107, 109], [106, 109], [105, 109], [104, 109], [103, 109], [102, 109], [101, 109], [101, 108], [100, 108], [100, 107], [99, 107], [99, 108], [99, 109], [98, 109], [98, 108], [97, 108], [97, 107], [97, 108], [97, 107], [97, 108], [97, 107], [97, 108], [97, 107], [97, 108], [97, 107], [97, 108], [97, 107], [97, 108], [97, 107], [97, 108], [97, 107], [97, 108], [97, 107], [97, 108], [97, 107], [97, 108], [97, 107], [97, 108], [97, 107], [97, 108], [97, 107], [97, 108], [97, 107], [97, 108], [97, 107], [97, 108], [97, 107], [97, 108], [97, 107], [97, 108], [97, 107], [97, 108], [97, 107], [97, 108], [97, 107], [97, 108], [97, 107], [97, 108], [97, 107], [97, 108], [97, 107], [97, 108], [97, 107], [97, 108], [97, 107], [97, 108], [97, 107], [97, 108], [97, 107], [97, 106], [97, 107], [97, 108], [97, 107], [97, 108], [97, 107], [97, 108], [97, 107], [97, 108], [97, 107], [97, 108], [97, 107], [97, 108], [97, 107], [97, 108], [97, 107], [97, 108], [97, 107], [97, 108], [97, 107], [97, 108], [97, 107], [97, 108], [97, 107], [97, 108], [97, 107], [97, 108], [97, 107], [97, 108], [98, 108], [97, 108], [97, 107], [97, 108], [97, 107], [97, 108], [97, 107], [97, 108], [97, 107], [97, 108], [97, 107], [97, 108], [97, 107], [97, 108], [97, 107], [97, 108], [97, 107], [97, 108], [97, 107], [97, 108], [97, 107], [97, 108], [97, 107], [97, 108], [97, 107], [97, 108], [97, 107], [97, 108], [97, 107], [97, 108], [97, 107], [97, 108], [97, 107], [97, 108], [97, 107], [97, 108], [97, 107], [97, 108], [97, 107], [97, 108], [97, 107], [97, 108], [98, 108], [97, 108], [97, 107], [97, 108], [97, 107], [97, 108], [97, 107], [97, 108], [97, 109], [97, 108], [97, 107], [97, 108], [97, 107], [97, 108], [97, 107], [97, 108], [97, 107], [97, 108], [97, 107], [97, 108], [97, 107], [97, 108], [97, 107], [97, 108], [97, 107], [97, 108], [97, 107], [97, 108], [97, 107], [97, 108], [97, 107], [97, 108], [97, 107], [97, 108], [97, 107], [97, 108], [97, 107], [97, 108], [97, 107], [97, 108], [97, 107], [98, 107], [98, 108], [97, 108], [97, 107], [97, 108], [97, 107], [96, 107], [95, 107], [94, 107], [94, 106], [93, 106], [92, 106], [91, 106], [91, 107], [91, 108], [91, 107], [91, 108], [91, 107], [91, 108], [91, 107], [91, 108], [91, 107], [91, 108], [91, 107], [91, 108], [91, 107], [91, 108], [91, 107], [91, 108], [90, 108], [90, 107], [89, 107], [89, 108], [89, 107], [89, 108], [89, 107], [89, 108], [89, 107], [89, 108], [89, 107], [89, 108], [89, 107], [89, 108], [89, 107], [89, 108], [89, 107], [89, 108], [89, 107], [89, 108], [89, 107], [89, 108], [89, 107], [89, 108], [89, 107], [89, 108], [89, 107], [89, 108], [89, 107], [89, 108], [89, 107], [89, 108], [89, 107], [89, 108], [89, 107], [89, 108], [89, 107], [89, 108], [89, 107], [89, 108], [89, 107], [89, 108], [89, 109], [89, 108], [89, 107], [89, 108], [89, 107], [89, 108], [89, 107], [89, 108], [89, 107], [89, 108], [89, 107], [89, 108], [89, 107], [89, 108], [89, 107], [89, 108], [89, 107], [89, 108], [89, 107], [88, 107], [87, 107], [86, 107], [86, 108], [85, 108], [84, 108], [84, 109], [83, 109], [82, 109], [81, 109], [81, 108], [81, 109], [80, 109], [80, 108], [80, 109], [80, 108], [80, 109], [80, 108], [80, 109], [80, 108], [80, 109], [80, 108], [80, 109], [80, 110], [80, 109], [80, 108], [80, 109], [80, 108], [80, 109], [80, 108], [80, 109], [80, 108], [80, 109], [80, 108], [80, 109], [80, 108], [80, 109], [80, 108], [79, 108], [79, 109], [79, 108], [79, 109], [79, 108], [79, 109], [79, 110], [79, 109], [79, 108], [79, 109], [79, 108], [79, 109], [79, 108], [79, 109], [79, 108], [79, 109], [79, 108], [79, 109], [79, 108], [79, 109], [79, 108], [79, 109], [79, 108], [79, 109], [79, 108], [79, 109], [79, 108], [79, 109], [79, 108], [79, 109], [79, 108], [79, 109], [79, 108], [79, 109], [79, 108], [79, 109], [79, 108], [79, 109], [79, 108], [79, 109], [79, 108], [79, 107], [79, 108], [79, 109], [79, 108], [79, 109], [79, 108], [79, 109], [79, 108], [80, 108], [80, 109], [80, 108], [80, 109], [80, 108], [80, 109], [80, 108], [80, 109], [80, 108], [80, 109], [80, 108], [80, 109], [80, 108], [80, 109], [80, 108], [80, 109], [80, 108], [80, 109], [80, 108], [80, 109], [80, 108], [80, 109], [80, 108], [80, 109], [80, 108], [80, 109], [80, 108], [79, 108], [79, 109], [79, 108], [79, 109], [79, 108], [79, 109], [79, 108], [79, 109], [79, 108], [79, 109], [79, 108], [79, 109], [79, 108], [79, 109], [79, 108], [79, 109], [79, 108], [79, 109], [79, 108], [79, 109], [79, 108], [79, 109], [79, 108], [79, 109], [79, 108], [79, 109], [79, 108], [79, 107], [79, 108], [79, 109], [79, 108], [79, 109], [79, 108], [79, 109], [79, 110], [79, 109], [79, 108], [79, 109], [80, 109], [80, 108], [80, 109], [80, 108], [80, 109], [80, 108], [80, 109], [80, 108], [80, 109], [80, 108], [80, 109], [80, 108], [80, 109], [80, 108], [80, 109], [80, 108], [80, 109], [80, 108], [80, 109], [80, 108], [80, 109], [80, 108], [80, 109], [80, 108], [80, 109], [80, 108], [80, 109], [80, 108], [80, 109], [80, 108], [80, 109], [80, 108], [80, 109], [80, 108], [80, 109], [80, 108], [80, 109], [80, 108], [80, 109], [80, 108], [80, 109], [80, 108], [80, 109], [80, 108], [79, 108], [79, 109], [79, 108], [79, 109], [79, 108], [79, 109], [79, 108], [79, 109], [79, 108], [79, 109], [79, 108], [79, 109], [79, 108], [79, 109], [79, 108], [79, 109], [79, 108], [79, 109], [79, 108], [79, 109], [79, 108], [79, 109], [79, 108], [79, 109], [79, 108], [79, 109], [79, 108], [79, 109], [79, 108], [79, 109], [79, 108], [79, 109], [79, 108], [79, 109], [79, 108], [79, 109], [79, 108], [79, 109], [79, 108], [79, 109], [78, 109], [78, 108], [77, 108], [77, 109], [76, 109], [75, 109], [75, 110], [75, 111], [74, 111], [74, 112], [74, 111], [74, 112], [74, 111], [74, 112], [74, 111], [74, 112], [74, 111], [74, 112], [74, 111], [74, 112], [74, 111], [74, 112], [74, 111], [74, 112], [74, 111], [74, 112], [74, 111], [74, 112], [74, 111], [74, 112], [74, 111], [74, 112], [74, 111], [74, 112], [74, 111], [74, 112], [74, 111], [74, 112], [74, 111], [74, 112], [74, 111], [74, 112], [74, 111], [74, 112], [74, 111], [74, 112], [74, 111], [74, 112], [74, 111], [74, 112], [74, 111], [74, 112], [74, 111], [74, 112], [74, 111], [74, 112], [74, 111], [74, 112], [74, 111], [74, 112], [74, 111], [74, 112], [74, 111], [74, 112], [74, 111], [74, 112], [74, 111], [74, 112], [74, 111], [74, 112], [74, 111], [74, 112], [74, 111], [74, 112], [74, 111], [74, 112], [74, 111], [74, 112], [74, 111], [74, 112], [74, 111], [74, 112], [74, 111], [74, 112], [74, 111], [74, 112], [74, 111], [74, 112], [74, 111], [74, 112], [74, 111], [74, 112], [74, 111], [74, 112], [74, 111], [74, 112], [74, 111], [74, 112], [74, 111], [74, 112], [74, 111], [74, 112], [74, 111], [74, 112], [74, 111], [74, 112], [74, 111], [74, 112], [74, 111], [74, 112], [74, 111], [74, 112], [74, 111], [74, 112], [74, 111], [74, 112], [74, 111], [74, 112], [74, 111], [74, 112], [74, 111], [74, 112], [74, 111], [74, 112], [74, 111], [74, 112], [74, 111], [74, 112], [74, 111], [74, 112], [74, 111], [74, 112], [74, 111], [74, 112], [74, 111], [74, 112], [74, 111], [74, 112], [74, 111], [74, 112], [74, 111], [74, 112], [74, 111], [74, 112], [74, 111], [74, 112], [74, 111], [74, 112], [74, 111], [74, 112], [74, 111], [74, 112], [74, 111], [74, 112], [74, 111], [74, 112], [74, 111], [74, 112], [74, 111], [74, 112], [74, 111], [74, 112], [74, 111], [74, 112], [74, 111], [74, 112], [74, 111], [74, 112], [74, 111], [74, 112], [74, 111], [74, 112], [74, 111], [74, 112], [74, 111], [74, 112], [74, 111], [74, 112], [74, 111], [74, 112], [74, 111], [74, 112], [74, 111], [74, 112], [74, 111], [74, 112], [75, 112], [75, 113], [75, 112], [75, 113], [75, 112], [74, 112], [74, 111], [74, 112], [74, 111], [74, 112], [74, 111], [74, 112], [74, 111], [74, 112], [74, 111], [74, 112], [74, 111], [74, 112], [74, 111], [74, 112], [74, 111], [73, 111], [73, 110], [72, 110], [72, 111], [72, 112], [72, 113], [72, 112], [72, 113], [72, 112], [72, 113], [72, 112], [72, 113], [72, 112], [72, 113], [72, 112], [72, 113], [72, 112], [72, 113], [72, 112], [72, 113], [72, 112], [72, 113], [72, 112], [72, 113], [72, 112], [72, 113], [72, 112], [72, 113], [72, 112], [72, 113], [72, 112], [72, 113], [72, 112], [72, 113], [72, 114], [72, 113], [72, 112], [72, 113], [72, 112], [72, 113], [72, 112], [72, 113], [72, 112], [72, 113], [72, 112], [72, 113], [72, 112], [72, 113], [72, 112], [72, 113], [72, 112], [72, 113], [72, 112], [72, 113], [72, 112], [72, 113], [72, 112], [72, 113], [72, 112], [72, 113], [72, 112], [72, 113], [72, 112], [72, 113], [72, 112], [72, 113], [71, 113], [71, 112], [71, 113], [71, 112], [71, 113], [71, 112], [71, 113], [71, 112], [71, 113], [71, 112], [71, 113], [71, 114], [71, 113], [71, 112], [71, 113], [71, 112], [71, 113], [71, 112], [71, 113], [71, 112], [71, 113], [71, 112], [71, 113], [71, 112], [71, 113], [71, 112], [71, 113], [71, 112], [71, 113], [71, 112], [71, 113], [71, 112], [71, 113], [71, 112], [71, 113], [71, 112], [71, 113], [71, 112], [71, 113], [71, 112], [71, 113], [71, 112], [71, 113], [71, 112], [71, 113], [71, 112], [71, 113], [71, 112], [71, 113], [71, 112], [72, 112], [72, 113], [72, 112], [72, 113], [72, 112], [72, 113], [72, 112], [72, 113], [72, 112], [72, 113], [72, 112], [72, 113], [72, 112], [72, 113], [72, 112], [72, 113], [72, 112], [72, 113], [72, 112], [72, 113], [72, 112], [72, 113], [72, 112], [72, 113], [72, 112], [72, 113], [72, 112], [72, 113], [72, 112], [72, 113], [72, 112], [72, 113], [72, 112], [72, 113], [72, 112], [72, 113], [72, 112], [72, 113], [72, 112], [72, 113], [72, 112], [72, 113], [72, 112], [72, 113], [72, 112], [72, 113], [72, 112], [72, 113], [72, 112], [72, 113], [72, 112], [72, 113], [72, 112], [72, 113], [72, 112], [72, 113], [72, 114], [72, 113], [72, 112], [72, 113], [72, 112], [72, 113], [72, 112], [72, 113], [72, 112], [72, 113], [72, 112], [72, 113], [72, 112], [72, 113], [71, 113], [71, 112], [71, 113], [71, 112], [71, 113], [71, 112], [71, 113], [71, 112], [71, 113], [71, 112], [71, 113], [71, 112], [71, 113], [71, 112], [71, 113], [71, 112], [71, 113], [71, 112], [71, 113], [71, 112], [71, 113], [71, 112], [71, 113], [71, 112], [71, 113], [71, 112], [71, 113], [71, 112], [71, 113], [71, 114], [71, 113], [71, 112], [71, 113], [71, 112], [71, 113], [71, 112], [71, 113], [71, 112], [71, 113], [71, 112], [71, 113], [71, 112], [71, 113], [71, 112], [71, 113], [71, 112], [71, 113], [71, 112], [71, 113], [71, 112], [71, 113], [71, 112], [71, 113], [71, 112], [71, 113], [71, 112], [71, 113], [71, 112], [71, 113], [71, 112], [71, 113], [71, 112], [71, 113], [71, 112], [71, 113], [71, 112], [71, 113], [71, 112], [71, 113], [72, 113], [72, 112], [72, 113], [72, 112], [72, 113], [72, 112], [72, 113], [72, 112], [72, 113], [72, 112], [71, 112], [71, 113], [71, 112], [71, 113], [71, 112], [71, 113], [71, 112], [71, 113], [71, 112], [71, 113], [71, 112], [71, 113], [71, 112], [71, 113], [71, 112], [71, 113], [71, 112], [71, 113], [71, 112], [71, 113], [71, 112], [71, 113], [71, 112], [71, 113], [71, 112], [71, 113], [71, 112], [71, 113], [71, 112], [71, 113], [71, 112], [71, 113], [71, 112], [71, 113], [71, 112], [71, 113], [71, 112], [71, 113], [71, 112], [71, 113], [72, 113], [72, 112], [72, 113], [72, 112], [72, 113], [72, 112], [72, 113], [72, 112], [72, 113], [72, 112], [72, 113], [72, 112], [72, 113], [72, 112], [72, 113], [72, 112], [72, 113], [72, 112], [72, 113], [72, 112], [72, 113], [72, 112], [72, 113], [72, 112], [72, 113], [72, 112], [72, 113], [71, 113], [71, 112], [71, 113], [71, 112], [71, 113], [71, 112], [71, 113], [71, 112], [71, 113], [71, 112], [71, 113], [71, 112], [71, 113], [71, 112], [71, 113], [71, 112], [71, 113], [71, 112], [71, 113], [71, 112], [71, 113], [71, 112], [71, 113], [71, 112], [71, 113], [71, 112], [71, 113], [71, 112], [71, 113], [71, 112], [71, 113], [71, 112], [71, 113], [71, 112], [71, 113], [71, 112], [71, 113], [71, 112], [71, 113], [71, 112], [71, 113], [71, 114], [71, 113], [71, 112], [71, 113], [71, 112], [71, 113], [71, 112], [71, 113], [71, 112], [71, 113], [71, 112], [71, 113], [71, 112], [71, 113], [71, 112], [71, 113], [71, 112], [71, 113], [71, 112], [71, 113], [71, 112], [71, 113], [72, 113], [72, 112], [72, 113], [72, 112], [72, 113], [72, 112], [72, 113], [72, 112], [72, 113], [72, 112], [72, 113], [72, 112], [72, 113], [72, 112], [72, 113], [72, 112], [71, 112], [71, 113], [71, 112], [71, 113], [71, 112], [71, 113], [71, 112], [71, 113], [71, 112], [71, 113], [70, 113], [70, 112], [70, 111], [70, 110], [70, 111], [70, 110], [70, 111], [70, 110], [70, 111], [70, 110], [70, 111], [70, 110], [70, 111], [70, 110], [70, 111], [69, 111], [69, 110], [69, 109], [69, 108], [69, 107], [69, 106], [68, 106], [68, 105], [68, 104], [68, 103], [68, 102], [68, 101], [68, 100], [67, 100], [66, 100], [65, 100], [64, 100], [63, 100], [62, 100], [62, 99], [62, 98], [62, 97], [62, 96], [62, 95], [61, 95], [60, 95], [61, 95], [60, 95], [59, 95], [58, 95], [57, 95], [56, 95], [55, 95], [55, 94], [55, 93], [54, 93], [53, 93], [52, 93], [51, 93], [50, 93], [49, 93], [48, 93], [47, 93], [46, 93], [45, 93], [44, 93], [43, 93], [42, 93], [41, 93], [40, 93], [40, 92], [40, 91], [39, 91], [38, 91], [37, 91], [36, 91], [35, 91], [34, 91], [33, 91], [32, 91], [31, 91], [30, 91], [29, 91], [28, 91], [27, 91], [27, 90], [26, 90], [25, 90], [24, 90], [23, 90], [22, 90], [21, 90]]\n"
          ]
        },
        {
          "output_type": "display_data",
          "data": {
            "image/png": "[encoded data removed]",
            "text/plain": [
              "<Figure size 432x288 with 1 Axes>"
            ]
          },
          "metadata": {
            "needs_background": "light"
          }
        }
      ],
      "source": [
        "#display a few shortest paths\n",
        "path =get_shortest_path(start_pix[0], start_pix[1],end_pix,epsilon =0.95,log=False)\n",
        "print(path) #starting at row 3, column 9\n",
        "\n",
        "pathimg = np.zeros((320,216))\n",
        "path_array  =np.array(path)\n",
        "\n",
        "for i in path_array:\n",
        "  pathimg[i[0],i[1]] =1\n",
        "\n",
        "plt.imshow(pathimg)\n",
        "plt.show()"
      ]
    },
    {
      "cell_type": "code",
      "source": [
        "m =plt.imread('mainpath.tif')"
      ],
      "metadata": {
        "id": "3ly6U85x1e04"
      },
      "execution_count": null,
      "outputs": []
    },
    {
      "cell_type": "code",
      "source": [
        "fig, (ax1, ax2) = plt.subplots(1, 2)\n",
        "fig.suptitle('Horizontally stacked subplots')\n",
        "ax1.imshow(m*125)\n",
        "ax2.imshow(pathimg)\n"
      ],
      "metadata": {
        "id": "r1yNUmC_1b91"
      },
      "execution_count": null,
      "outputs": []
    },
    {
      "cell_type": "code",
      "source": [
        "for i in path_array:\n",
        "  pathimg[i[0],i[1]] =125\n",
        "plt.imsave('result.jpg',pathimg)\n",
        "plt.imshow(pathimg)\n",
        "plt.show()"
      ],
      "metadata": {
        "id": "XyFmgETCuWQd"
      },
      "execution_count": null,
      "outputs": []
    },
    {
      "cell_type": "code",
      "source": [
        "np.save(\"resultarray.npy\",pathimg)"
      ],
      "metadata": {
        "id": "oIjw68OIDNn1"
      },
      "execution_count": null,
      "outputs": []
    },
    {
      "cell_type": "code",
      "source": [
        "pathimg = np.zeros((320,216))"
      ],
      "metadata": {
        "id": "AmNbyD101A1k"
      },
      "execution_count": null,
      "outputs": []
    },
    {
      "cell_type": "code",
      "source": [
        "path_array  =np.array(path)"
      ],
      "metadata": {
        "id": "eDEhgAO_1Tes"
      },
      "execution_count": null,
      "outputs": []
    },
    {
      "cell_type": "code",
      "source": [
        "path_array[1]"
      ],
      "metadata": {
        "id": "Wc3Do-X41asG"
      },
      "execution_count": null,
      "outputs": []
    },
    {
      "cell_type": "code",
      "source": [
        "for i in path_array:\n",
        "  pathimg[i[0],i[1]] =1"
      ],
      "metadata": {
        "id": "6M3Gbd9H1dPQ"
      },
      "execution_count": null,
      "outputs": []
    },
    {
      "cell_type": "code",
      "source": [
        "plt.imshow(pathimg)\n",
        "plt.show()"
      ],
      "metadata": {
        "id": "SkmJys7V1vKc"
      },
      "execution_count": null,
      "outputs": []
    },
    {
      "cell_type": "code",
      "source": [
        "print(np.min(q_values))"
      ],
      "metadata": {
        "id": "5oh2wBwU1ci_"
      },
      "execution_count": null,
      "outputs": []
    },
    {
      "cell_type": "code",
      "source": [],
      "metadata": {
        "id": "qzHnv3uR1tMF"
      },
      "execution_count": null,
      "outputs": []
    },
    {
      "cell_type": "code",
      "execution_count": null,
      "metadata": {
        "id": "fKun8LInsas9"
      },
      "outputs": [],
      "source": []
    },
    {
      "cell_type": "code",
      "source": [],
      "metadata": {
        "id": "el8Jb8Vv21ii"
      },
      "execution_count": null,
      "outputs": []
    },
    {
      "cell_type": "code",
      "source": [
        "q_values.shape"
      ],
      "metadata": {
        "id": "JvAi-E7E4uZZ"
      },
      "execution_count": null,
      "outputs": []
    },
    {
      "cell_type": "code",
      "source": [
        "#np.save(\"qnp.npy\",q_values)"
      ],
      "metadata": {
        "id": "jOpHDI5W5MdI"
      },
      "execution_count": null,
      "outputs": []
    },
    {
      "cell_type": "code",
      "source": [],
      "metadata": {
        "id": "5QLEfBx33hWf"
      },
      "execution_count": null,
      "outputs": []
    },
    {
      "cell_type": "code",
      "source": [],
      "metadata": {
        "id": "v0-Q5R8A1Hue"
      },
      "execution_count": null,
      "outputs": []
    },
    {
      "cell_type": "code",
      "source": [
        "x = np.load('qnp.npy')"
      ],
      "metadata": {
        "id": "07KuGjss5aet"
      },
      "execution_count": null,
      "outputs": []
    },
    {
      "cell_type": "code",
      "source": [
        "np.max(x)"
      ],
      "metadata": {
        "id": "T8J6-btg5j2u"
      },
      "execution_count": null,
      "outputs": []
    }
  ],
  "metadata": {
    "colab": {
      "collapsed_sections": [],
      "provenance": []
    },
    "kernelspec": {
      "display_name": "Python 3",
      "name": "python3"
    }
  },
  "nbformat": 4,
  "nbformat_minor": 0
}